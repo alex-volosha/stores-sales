{
 "cells": [
  {
   "cell_type": "code",
   "execution_count": 88,
   "metadata": {},
   "outputs": [],
   "source": [
    "import duckdb\n",
    "import pandas as pd\n",
    "import numpy as np\n",
    "from xgboost import XGBRegressor\n",
    "from sklearn.preprocessing import LabelEncoder\n",
    "from sklearn.metrics import mean_squared_error, mean_absolute_error, r2_score\n",
    "import seaborn as sns\n",
    "import matplotlib.pyplot as plt\n",
    "from sklearn.linear_model import Ridge"
   ]
  },
  {
   "cell_type": "code",
   "execution_count": 120,
   "metadata": {},
   "outputs": [
    {
     "data": {
      "application/vnd.jupyter.widget-view+json": {
       "model_id": "74dd1d23fc4847c39753f97d6a237abd",
       "version_major": 2,
       "version_minor": 0
      },
      "text/plain": [
       "FloatProgress(value=0.0, layout=Layout(width='auto'), style=ProgressStyle(bar_color='black'))"
      ]
     },
     "metadata": {},
     "output_type": "display_data"
    }
   ],
   "source": [
    "# Connect to DuckDB\n",
    "con = duckdb.connect()\n",
    "\n",
    "# Create simpler dataset with basic features\n",
    "data = con.execute(\"\"\"\n",
    "    WITH sales_data AS (\n",
    "        SELECT \n",
    "            s.date,\n",
    "            s.store_id,\n",
    "            s.item_id,\n",
    "            CAST(s.quantity AS FLOAT) as quantity,\n",
    "            CAST(s.price_base AS FLOAT) as price,\n",
    "            -- Add basic date features\n",
    "            EXTRACT(MONTH FROM s.date) as month,\n",
    "            EXTRACT(DOW FROM s.date) as day_of_week,\n",
    "            -- Join with catalog for product info\n",
    "            c.dept_name,\n",
    "            c.class_name,\n",
    "            -- Join with stores for store info\n",
    "            st.format as store_format,\n",
    "            st.city\n",
    "        FROM read_csv_auto('data/sales.csv') s\n",
    "        LEFT JOIN read_csv_auto('data/catalog.csv') c ON s.item_id = c.item_id\n",
    "        LEFT JOIN read_csv_auto('data/stores.csv') st ON s.store_id = st.store_id\n",
    "    )\n",
    "    SELECT *\n",
    "    FROM sales_data\n",
    "\"\"\").fetchdf()"
   ]
  },
  {
   "cell_type": "code",
   "execution_count": 119,
   "metadata": {},
   "outputs": [
    {
     "ename": "ConversionException",
     "evalue": "Conversion Error: Type INT64 with value 9999999999 can't be cast because the value is out of range for the destination type INT32\nLINE 17:         CAST(ph.code AS INTEGER) as price_change_code,\n        EXTRACT(MONTH FROM s.date) as month,\n        EXTRACT(DOW FROM s.date) as day_of_week,\n        c.dept_name,\n        c.class_name,\n        st.format as store_format,\n        st.city\n    FROM read_csv_auto('data/sales.csv') s\n    LEFT JOIN read_csv_auto('data/catalog.csv') c ON s.item_id = c.item_id\n    LEFT JOIN read_csv_auto('data/stores.csv') st ON s.store_id = st.store_id\n    LEFT JOIN read_csv_auto('data/discounts_history.csv') d \n        ON s.item_id = d.item_id \n        AND s.date = d.date\n        AND s.store_id = d.store_id\n    LEFT JOIN read_csv_auto('data/markdowns.csv') m \n        ON s.item_id = m.item_id \n        AND s.date = m.date\n        AND s.store_id = m.store_id\n    LEFT JOIN read_csv_auto('data/price_history.csv') ph\n        ON s.item_id = ph.item_id\n        AND s.date = ph.date \n        AND s.store_id = ph.store_id\n    )\n    SELECT *\n    FROM sales_data\n...\n                 ^",
     "output_type": "error",
     "traceback": [
      "\u001b[0;31m---------------------------------------------------------------------------\u001b[0m",
      "\u001b[0;31mConversionException\u001b[0m                       Traceback (most recent call last)",
      "Cell \u001b[0;32mIn[119], line 46\u001b[0m\n\u001b[1;32m      2\u001b[0m con \u001b[38;5;241m=\u001b[39m duckdb\u001b[38;5;241m.\u001b[39mconnect()\n\u001b[1;32m      4\u001b[0m \u001b[38;5;66;03m# Create simpler dataset with basic features\u001b[39;00m\n\u001b[1;32m      5\u001b[0m data \u001b[38;5;241m=\u001b[39m \u001b[43mcon\u001b[49m\u001b[38;5;241;43m.\u001b[39;49m\u001b[43mexecute\u001b[49m\u001b[43m(\u001b[49m\u001b[38;5;124;43m\"\"\"\u001b[39;49m\n\u001b[1;32m      6\u001b[0m \u001b[38;5;124;43m    WITH sales_data AS (\u001b[39;49m\n\u001b[1;32m      7\u001b[0m \u001b[38;5;124;43m    SELECT \u001b[39;49m\n\u001b[1;32m      8\u001b[0m \u001b[38;5;124;43m        s.date,\u001b[39;49m\n\u001b[1;32m      9\u001b[0m \u001b[38;5;124;43m        s.store_id,\u001b[39;49m\n\u001b[1;32m     10\u001b[0m \u001b[38;5;124;43m        s.item_id,\u001b[39;49m\n\u001b[1;32m     11\u001b[0m \u001b[38;5;124;43m        CAST(s.quantity AS FLOAT) as quantity,\u001b[39;49m\n\u001b[1;32m     12\u001b[0m \u001b[38;5;124;43m        CAST(s.price_base AS FLOAT) as price,\u001b[39;49m\n\u001b[1;32m     13\u001b[0m \u001b[38;5;124;43m        CAST(CASE WHEN d.doc_id IS NOT NULL THEN 1 ELSE 0 END AS INTEGER) as is_promo,\u001b[39;49m\n\u001b[1;32m     14\u001b[0m \u001b[38;5;124;43m        CAST(CASE WHEN m.price IS NOT NULL THEN 1 ELSE 0 END AS INTEGER) as is_markdown,\u001b[39;49m\n\u001b[1;32m     15\u001b[0m \u001b[38;5;124;43m        CAST(COALESCE((d.sale_price_before_promo - d.sale_price_time_promo) / \u001b[39;49m\n\u001b[1;32m     16\u001b[0m \u001b[38;5;124;43m            NULLIF(d.sale_price_before_promo, 0) * 100, 0) AS FLOAT) as promo_discount,\u001b[39;49m\n\u001b[1;32m     17\u001b[0m \u001b[38;5;124;43m        CAST(COALESCE((m.normal_price - m.price) / \u001b[39;49m\n\u001b[1;32m     18\u001b[0m \u001b[38;5;124;43m            NULLIF(m.normal_price, 0) * 100, 0) AS FLOAT) as markdown_percentage,\u001b[39;49m\n\u001b[1;32m     19\u001b[0m \u001b[38;5;124;43m        CAST(COALESCE((ph.price - s.price_base) / \u001b[39;49m\n\u001b[1;32m     20\u001b[0m \u001b[38;5;124;43m            NULLIF(s.price_base, 0) * 100, 0) AS FLOAT) as price_change_percentage,\u001b[39;49m\n\u001b[1;32m     21\u001b[0m \u001b[38;5;124;43m        CAST(ph.code AS INTEGER) as price_change_code,\u001b[39;49m\n\u001b[1;32m     22\u001b[0m \u001b[38;5;124;43m        EXTRACT(MONTH FROM s.date) as month,\u001b[39;49m\n\u001b[1;32m     23\u001b[0m \u001b[38;5;124;43m        EXTRACT(DOW FROM s.date) as day_of_week,\u001b[39;49m\n\u001b[1;32m     24\u001b[0m \u001b[38;5;124;43m        c.dept_name,\u001b[39;49m\n\u001b[1;32m     25\u001b[0m \u001b[38;5;124;43m        c.class_name,\u001b[39;49m\n\u001b[1;32m     26\u001b[0m \u001b[38;5;124;43m        st.format as store_format,\u001b[39;49m\n\u001b[1;32m     27\u001b[0m \u001b[38;5;124;43m        st.city\u001b[39;49m\n\u001b[1;32m     28\u001b[0m \u001b[38;5;124;43m    FROM read_csv_auto(\u001b[39;49m\u001b[38;5;124;43m'\u001b[39;49m\u001b[38;5;124;43mdata/sales.csv\u001b[39;49m\u001b[38;5;124;43m'\u001b[39;49m\u001b[38;5;124;43m) s\u001b[39;49m\n\u001b[1;32m     29\u001b[0m \u001b[38;5;124;43m    LEFT JOIN read_csv_auto(\u001b[39;49m\u001b[38;5;124;43m'\u001b[39;49m\u001b[38;5;124;43mdata/catalog.csv\u001b[39;49m\u001b[38;5;124;43m'\u001b[39;49m\u001b[38;5;124;43m) c ON s.item_id = c.item_id\u001b[39;49m\n\u001b[1;32m     30\u001b[0m \u001b[38;5;124;43m    LEFT JOIN read_csv_auto(\u001b[39;49m\u001b[38;5;124;43m'\u001b[39;49m\u001b[38;5;124;43mdata/stores.csv\u001b[39;49m\u001b[38;5;124;43m'\u001b[39;49m\u001b[38;5;124;43m) st ON s.store_id = st.store_id\u001b[39;49m\n\u001b[1;32m     31\u001b[0m \u001b[38;5;124;43m    LEFT JOIN read_csv_auto(\u001b[39;49m\u001b[38;5;124;43m'\u001b[39;49m\u001b[38;5;124;43mdata/discounts_history.csv\u001b[39;49m\u001b[38;5;124;43m'\u001b[39;49m\u001b[38;5;124;43m) d \u001b[39;49m\n\u001b[1;32m     32\u001b[0m \u001b[38;5;124;43m        ON s.item_id = d.item_id \u001b[39;49m\n\u001b[1;32m     33\u001b[0m \u001b[38;5;124;43m        AND s.date = d.date\u001b[39;49m\n\u001b[1;32m     34\u001b[0m \u001b[38;5;124;43m        AND s.store_id = d.store_id\u001b[39;49m\n\u001b[1;32m     35\u001b[0m \u001b[38;5;124;43m    LEFT JOIN read_csv_auto(\u001b[39;49m\u001b[38;5;124;43m'\u001b[39;49m\u001b[38;5;124;43mdata/markdowns.csv\u001b[39;49m\u001b[38;5;124;43m'\u001b[39;49m\u001b[38;5;124;43m) m \u001b[39;49m\n\u001b[1;32m     36\u001b[0m \u001b[38;5;124;43m        ON s.item_id = m.item_id \u001b[39;49m\n\u001b[1;32m     37\u001b[0m \u001b[38;5;124;43m        AND s.date = m.date\u001b[39;49m\n\u001b[1;32m     38\u001b[0m \u001b[38;5;124;43m        AND s.store_id = m.store_id\u001b[39;49m\n\u001b[1;32m     39\u001b[0m \u001b[38;5;124;43m    LEFT JOIN read_csv_auto(\u001b[39;49m\u001b[38;5;124;43m'\u001b[39;49m\u001b[38;5;124;43mdata/price_history.csv\u001b[39;49m\u001b[38;5;124;43m'\u001b[39;49m\u001b[38;5;124;43m) ph\u001b[39;49m\n\u001b[1;32m     40\u001b[0m \u001b[38;5;124;43m        ON s.item_id = ph.item_id\u001b[39;49m\n\u001b[1;32m     41\u001b[0m \u001b[38;5;124;43m        AND s.date = ph.date \u001b[39;49m\n\u001b[1;32m     42\u001b[0m \u001b[38;5;124;43m        AND s.store_id = ph.store_id\u001b[39;49m\n\u001b[1;32m     43\u001b[0m \u001b[38;5;124;43m    )\u001b[39;49m\n\u001b[1;32m     44\u001b[0m \u001b[38;5;124;43m    SELECT *\u001b[39;49m\n\u001b[1;32m     45\u001b[0m \u001b[38;5;124;43m    FROM sales_data\u001b[39;49m\n\u001b[0;32m---> 46\u001b[0m \u001b[38;5;124;43m\"\"\"\u001b[39;49m\u001b[43m)\u001b[49m\u001b[38;5;241;43m.\u001b[39;49m\u001b[43mfetchdf\u001b[49m\u001b[43m(\u001b[49m\u001b[43m)\u001b[49m\n",
      "\u001b[0;31mConversionException\u001b[0m: Conversion Error: Type INT64 with value 9999999999 can't be cast because the value is out of range for the destination type INT32\nLINE 17:         CAST(ph.code AS INTEGER) as price_change_code,\n        EXTRACT(MONTH FROM s.date) as month,\n        EXTRACT(DOW FROM s.date) as day_of_week,\n        c.dept_name,\n        c.class_name,\n        st.format as store_format,\n        st.city\n    FROM read_csv_auto('data/sales.csv') s\n    LEFT JOIN read_csv_auto('data/catalog.csv') c ON s.item_id = c.item_id\n    LEFT JOIN read_csv_auto('data/stores.csv') st ON s.store_id = st.store_id\n    LEFT JOIN read_csv_auto('data/discounts_history.csv') d \n        ON s.item_id = d.item_id \n        AND s.date = d.date\n        AND s.store_id = d.store_id\n    LEFT JOIN read_csv_auto('data/markdowns.csv') m \n        ON s.item_id = m.item_id \n        AND s.date = m.date\n        AND s.store_id = m.store_id\n    LEFT JOIN read_csv_auto('data/price_history.csv') ph\n        ON s.item_id = ph.item_id\n        AND s.date = ph.date \n        AND s.store_id = ph.store_id\n    )\n    SELECT *\n    FROM sales_data\n...\n                 ^"
     ]
    }
   ],
   "source": [
    "# Connect to DuckDB\n",
    "con = duckdb.connect()\n",
    "\n",
    "# Create simpler dataset with basic features\n",
    "data = con.execute(\"\"\"\n",
    "    WITH sales_data AS (\n",
    "    SELECT \n",
    "        s.date,\n",
    "        s.store_id,\n",
    "        s.item_id,\n",
    "        CAST(s.quantity AS FLOAT) as quantity,\n",
    "        CAST(s.price_base AS FLOAT) as price,\n",
    "        CAST(CASE WHEN d.doc_id IS NOT NULL THEN 1 ELSE 0 END AS INTEGER) as is_promo,\n",
    "        CAST(CASE WHEN m.price IS NOT NULL THEN 1 ELSE 0 END AS INTEGER) as is_markdown,\n",
    "        CAST(COALESCE((d.sale_price_before_promo - d.sale_price_time_promo) / \n",
    "            NULLIF(d.sale_price_before_promo, 0) * 100, 0) AS FLOAT) as promo_discount,\n",
    "        CAST(COALESCE((m.normal_price - m.price) / \n",
    "            NULLIF(m.normal_price, 0) * 100, 0) AS FLOAT) as markdown_percentage,\n",
    "        CAST(COALESCE((ph.price - s.price_base) / \n",
    "            NULLIF(s.price_base, 0) * 100, 0) AS FLOAT) as price_change_percentage,\n",
    "        CAST(ph.code AS INTEGER) as price_change_code,\n",
    "        EXTRACT(MONTH FROM s.date) as month,\n",
    "        EXTRACT(DOW FROM s.date) as day_of_week,\n",
    "        c.dept_name,\n",
    "        c.class_name,\n",
    "        st.format as store_format,\n",
    "        st.city\n",
    "    FROM read_csv_auto('data/sales.csv') s\n",
    "    LEFT JOIN read_csv_auto('data/catalog.csv') c ON s.item_id = c.item_id\n",
    "    LEFT JOIN read_csv_auto('data/stores.csv') st ON s.store_id = st.store_id\n",
    "    LEFT JOIN read_csv_auto('data/discounts_history.csv') d \n",
    "        ON s.item_id = d.item_id \n",
    "        AND s.date = d.date\n",
    "        AND s.store_id = d.store_id\n",
    "    LEFT JOIN read_csv_auto('data/markdowns.csv') m \n",
    "        ON s.item_id = m.item_id \n",
    "        AND s.date = m.date\n",
    "        AND s.store_id = m.store_id\n",
    "    LEFT JOIN read_csv_auto('data/price_history.csv') ph\n",
    "        ON s.item_id = ph.item_id\n",
    "        AND s.date = ph.date \n",
    "        AND s.store_id = ph.store_id\n",
    "    )\n",
    "    SELECT *\n",
    "    FROM sales_data\n",
    "\"\"\").fetchdf()"
   ]
  },
  {
   "cell_type": "code",
   "execution_count": 90,
   "metadata": {},
   "outputs": [
    {
     "data": {
      "text/plain": [
       "date                       0\n",
       "store_id                   0\n",
       "item_id                    0\n",
       "quantity                   0\n",
       "price                      0\n",
       "is_promo                   0\n",
       "is_markdown                0\n",
       "promo_discount             0\n",
       "markdown_percentage        0\n",
       "month                      0\n",
       "day_of_week                0\n",
       "dept_name              36585\n",
       "class_name             36585\n",
       "store_format               0\n",
       "city                       0\n",
       "dtype: int64"
      ]
     },
     "execution_count": 90,
     "metadata": {},
     "output_type": "execute_result"
    }
   ],
   "source": [
    "data.isnull().sum()"
   ]
  },
  {
   "cell_type": "code",
   "execution_count": 62,
   "metadata": {},
   "outputs": [
    {
     "data": {
      "text/html": [
       "<div>\n",
       "<style scoped>\n",
       "    .dataframe tbody tr th:only-of-type {\n",
       "        vertical-align: middle;\n",
       "    }\n",
       "\n",
       "    .dataframe tbody tr th {\n",
       "        vertical-align: top;\n",
       "    }\n",
       "\n",
       "    .dataframe thead th {\n",
       "        text-align: right;\n",
       "    }\n",
       "</style>\n",
       "<table border=\"1\" class=\"dataframe\">\n",
       "  <thead>\n",
       "    <tr style=\"text-align: right;\">\n",
       "      <th></th>\n",
       "      <th>date</th>\n",
       "      <th>store_id</th>\n",
       "      <th>item_id</th>\n",
       "      <th>quantity</th>\n",
       "      <th>price</th>\n",
       "      <th>is_promo</th>\n",
       "      <th>is_markdown</th>\n",
       "      <th>promo_discount</th>\n",
       "      <th>markdown_percentage</th>\n",
       "      <th>month</th>\n",
       "      <th>day_of_week</th>\n",
       "      <th>dept_name</th>\n",
       "      <th>class_name</th>\n",
       "      <th>store_format</th>\n",
       "      <th>city</th>\n",
       "    </tr>\n",
       "  </thead>\n",
       "  <tbody>\n",
       "    <tr>\n",
       "      <th>0</th>\n",
       "      <td>2023-08-04</td>\n",
       "      <td>1</td>\n",
       "      <td>f0309b5a974b</td>\n",
       "      <td>1.0</td>\n",
       "      <td>59.900002</td>\n",
       "      <td>1</td>\n",
       "      <td>0</td>\n",
       "      <td>25.031290</td>\n",
       "      <td>0.000000</td>\n",
       "      <td>8</td>\n",
       "      <td>5</td>\n",
       "      <td>НЕСЛАДКИЕ МУЧНЫЕ ИЗДЕЛИЯ</td>\n",
       "      <td>КРЕКЕРЫ</td>\n",
       "      <td>Format-1</td>\n",
       "      <td>City1</td>\n",
       "    </tr>\n",
       "    <tr>\n",
       "      <th>1</th>\n",
       "      <td>2023-08-04</td>\n",
       "      <td>1</td>\n",
       "      <td>5f3114373ddd</td>\n",
       "      <td>2.0</td>\n",
       "      <td>449.899994</td>\n",
       "      <td>1</td>\n",
       "      <td>0</td>\n",
       "      <td>18.185125</td>\n",
       "      <td>0.000000</td>\n",
       "      <td>8</td>\n",
       "      <td>5</td>\n",
       "      <td>ВИНО</td>\n",
       "      <td>ВИНА ИГРИСТЫЕ</td>\n",
       "      <td>Format-1</td>\n",
       "      <td>City1</td>\n",
       "    </tr>\n",
       "    <tr>\n",
       "      <th>2</th>\n",
       "      <td>2023-08-04</td>\n",
       "      <td>1</td>\n",
       "      <td>56edb7bdecaf</td>\n",
       "      <td>2.0</td>\n",
       "      <td>169.899994</td>\n",
       "      <td>1</td>\n",
       "      <td>0</td>\n",
       "      <td>24.146257</td>\n",
       "      <td>0.000000</td>\n",
       "      <td>8</td>\n",
       "      <td>5</td>\n",
       "      <td>КЕТЧУПЫ,СОУСЫ НА ТОМАТНОЙ ОСНОВЕ</td>\n",
       "      <td>КЕТЧУПЫ</td>\n",
       "      <td>Format-1</td>\n",
       "      <td>City1</td>\n",
       "    </tr>\n",
       "    <tr>\n",
       "      <th>3</th>\n",
       "      <td>2023-08-04</td>\n",
       "      <td>1</td>\n",
       "      <td>034037aebd6e</td>\n",
       "      <td>7.0</td>\n",
       "      <td>99.900002</td>\n",
       "      <td>1</td>\n",
       "      <td>0</td>\n",
       "      <td>0.000000</td>\n",
       "      <td>0.000000</td>\n",
       "      <td>8</td>\n",
       "      <td>5</td>\n",
       "      <td>МАСЛО ПОДСОЛНЕЧНОЕ</td>\n",
       "      <td>НЕРАФИНИРОВАННОЕ</td>\n",
       "      <td>Format-1</td>\n",
       "      <td>City1</td>\n",
       "    </tr>\n",
       "    <tr>\n",
       "      <th>4</th>\n",
       "      <td>2023-08-04</td>\n",
       "      <td>1</td>\n",
       "      <td>0780b159bd55</td>\n",
       "      <td>1.0</td>\n",
       "      <td>319.899994</td>\n",
       "      <td>1</td>\n",
       "      <td>0</td>\n",
       "      <td>20.935101</td>\n",
       "      <td>0.000000</td>\n",
       "      <td>8</td>\n",
       "      <td>5</td>\n",
       "      <td>ПЕРСОНАЛЬНЫЙ УХОД</td>\n",
       "      <td>УХОД ЗА ВОЛОСАМИ</td>\n",
       "      <td>Format-1</td>\n",
       "      <td>City1</td>\n",
       "    </tr>\n",
       "    <tr>\n",
       "      <th>...</th>\n",
       "      <td>...</td>\n",
       "      <td>...</td>\n",
       "      <td>...</td>\n",
       "      <td>...</td>\n",
       "      <td>...</td>\n",
       "      <td>...</td>\n",
       "      <td>...</td>\n",
       "      <td>...</td>\n",
       "      <td>...</td>\n",
       "      <td>...</td>\n",
       "      <td>...</td>\n",
       "      <td>...</td>\n",
       "      <td>...</td>\n",
       "      <td>...</td>\n",
       "      <td>...</td>\n",
       "    </tr>\n",
       "    <tr>\n",
       "      <th>7432948</th>\n",
       "      <td>2024-09-15</td>\n",
       "      <td>4</td>\n",
       "      <td>9f45a49e5ee4</td>\n",
       "      <td>2.0</td>\n",
       "      <td>757.299988</td>\n",
       "      <td>0</td>\n",
       "      <td>1</td>\n",
       "      <td>0.000000</td>\n",
       "      <td>37.010101</td>\n",
       "      <td>9</td>\n",
       "      <td>0</td>\n",
       "      <td>ТОРТЫ</td>\n",
       "      <td>ВОЗДУШНЫЕ</td>\n",
       "      <td>MaxiEuro</td>\n",
       "      <td>City3</td>\n",
       "    </tr>\n",
       "    <tr>\n",
       "      <th>7432949</th>\n",
       "      <td>2024-09-15</td>\n",
       "      <td>4</td>\n",
       "      <td>75a435426869</td>\n",
       "      <td>5.0</td>\n",
       "      <td>692.099976</td>\n",
       "      <td>0</td>\n",
       "      <td>1</td>\n",
       "      <td>0.000000</td>\n",
       "      <td>40.000000</td>\n",
       "      <td>9</td>\n",
       "      <td>0</td>\n",
       "      <td>ТОРТЫ</td>\n",
       "      <td>БИСКВИТНЫЕ БЕЛЫЕ</td>\n",
       "      <td>MaxiEuro</td>\n",
       "      <td>City3</td>\n",
       "    </tr>\n",
       "    <tr>\n",
       "      <th>7432950</th>\n",
       "      <td>2024-08-20</td>\n",
       "      <td>4</td>\n",
       "      <td>d60184cf6ca5</td>\n",
       "      <td>8.0</td>\n",
       "      <td>149.500000</td>\n",
       "      <td>0</td>\n",
       "      <td>1</td>\n",
       "      <td>0.000000</td>\n",
       "      <td>40.000000</td>\n",
       "      <td>8</td>\n",
       "      <td>2</td>\n",
       "      <td>None</td>\n",
       "      <td>None</td>\n",
       "      <td>MaxiEuro</td>\n",
       "      <td>City3</td>\n",
       "    </tr>\n",
       "    <tr>\n",
       "      <th>7432951</th>\n",
       "      <td>2024-08-27</td>\n",
       "      <td>4</td>\n",
       "      <td>d60184cf6ca5</td>\n",
       "      <td>12.0</td>\n",
       "      <td>155.389999</td>\n",
       "      <td>0</td>\n",
       "      <td>1</td>\n",
       "      <td>0.000000</td>\n",
       "      <td>40.000000</td>\n",
       "      <td>8</td>\n",
       "      <td>2</td>\n",
       "      <td>None</td>\n",
       "      <td>None</td>\n",
       "      <td>MaxiEuro</td>\n",
       "      <td>City3</td>\n",
       "    </tr>\n",
       "    <tr>\n",
       "      <th>7432952</th>\n",
       "      <td>2024-08-27</td>\n",
       "      <td>4</td>\n",
       "      <td>07605df7333f</td>\n",
       "      <td>19.0</td>\n",
       "      <td>157.690002</td>\n",
       "      <td>0</td>\n",
       "      <td>1</td>\n",
       "      <td>0.000000</td>\n",
       "      <td>40.000000</td>\n",
       "      <td>8</td>\n",
       "      <td>2</td>\n",
       "      <td>None</td>\n",
       "      <td>None</td>\n",
       "      <td>MaxiEuro</td>\n",
       "      <td>City3</td>\n",
       "    </tr>\n",
       "  </tbody>\n",
       "</table>\n",
       "<p>7432953 rows × 15 columns</p>\n",
       "</div>"
      ],
      "text/plain": [
       "              date  store_id       item_id  quantity       price  is_promo   \n",
       "0       2023-08-04         1  f0309b5a974b       1.0   59.900002         1  \\\n",
       "1       2023-08-04         1  5f3114373ddd       2.0  449.899994         1   \n",
       "2       2023-08-04         1  56edb7bdecaf       2.0  169.899994         1   \n",
       "3       2023-08-04         1  034037aebd6e       7.0   99.900002         1   \n",
       "4       2023-08-04         1  0780b159bd55       1.0  319.899994         1   \n",
       "...            ...       ...           ...       ...         ...       ...   \n",
       "7432948 2024-09-15         4  9f45a49e5ee4       2.0  757.299988         0   \n",
       "7432949 2024-09-15         4  75a435426869       5.0  692.099976         0   \n",
       "7432950 2024-08-20         4  d60184cf6ca5       8.0  149.500000         0   \n",
       "7432951 2024-08-27         4  d60184cf6ca5      12.0  155.389999         0   \n",
       "7432952 2024-08-27         4  07605df7333f      19.0  157.690002         0   \n",
       "\n",
       "         is_markdown  promo_discount  markdown_percentage  month  day_of_week   \n",
       "0                  0       25.031290             0.000000      8            5  \\\n",
       "1                  0       18.185125             0.000000      8            5   \n",
       "2                  0       24.146257             0.000000      8            5   \n",
       "3                  0        0.000000             0.000000      8            5   \n",
       "4                  0       20.935101             0.000000      8            5   \n",
       "...              ...             ...                  ...    ...          ...   \n",
       "7432948            1        0.000000            37.010101      9            0   \n",
       "7432949            1        0.000000            40.000000      9            0   \n",
       "7432950            1        0.000000            40.000000      8            2   \n",
       "7432951            1        0.000000            40.000000      8            2   \n",
       "7432952            1        0.000000            40.000000      8            2   \n",
       "\n",
       "                                dept_name        class_name store_format   \n",
       "0                НЕСЛАДКИЕ МУЧНЫЕ ИЗДЕЛИЯ           КРЕКЕРЫ     Format-1  \\\n",
       "1                                    ВИНО     ВИНА ИГРИСТЫЕ     Format-1   \n",
       "2        КЕТЧУПЫ,СОУСЫ НА ТОМАТНОЙ ОСНОВЕ           КЕТЧУПЫ     Format-1   \n",
       "3                      МАСЛО ПОДСОЛНЕЧНОЕ  НЕРАФИНИРОВАННОЕ     Format-1   \n",
       "4                       ПЕРСОНАЛЬНЫЙ УХОД  УХОД ЗА ВОЛОСАМИ     Format-1   \n",
       "...                                   ...               ...          ...   \n",
       "7432948                             ТОРТЫ         ВОЗДУШНЫЕ     MaxiEuro   \n",
       "7432949                             ТОРТЫ  БИСКВИТНЫЕ БЕЛЫЕ     MaxiEuro   \n",
       "7432950                              None              None     MaxiEuro   \n",
       "7432951                              None              None     MaxiEuro   \n",
       "7432952                              None              None     MaxiEuro   \n",
       "\n",
       "          city  \n",
       "0        City1  \n",
       "1        City1  \n",
       "2        City1  \n",
       "3        City1  \n",
       "4        City1  \n",
       "...        ...  \n",
       "7432948  City3  \n",
       "7432949  City3  \n",
       "7432950  City3  \n",
       "7432951  City3  \n",
       "7432952  City3  \n",
       "\n",
       "[7432953 rows x 15 columns]"
      ]
     },
     "execution_count": 62,
     "metadata": {},
     "output_type": "execute_result"
    }
   ],
   "source": [
    "data"
   ]
  },
  {
   "cell_type": "code",
   "execution_count": 63,
   "metadata": {},
   "outputs": [
    {
     "data": {
      "image/png": "[encoded data removed]",
      "text/plain": [
       "<Figure size 640x480 with 1 Axes>"
      ]
     },
     "metadata": {},
     "output_type": "display_data"
    }
   ],
   "source": [
    "monthly_sales = data.groupby('month')['quantity'].sum().reset_index()\n",
    "\n",
    "# Plot\n",
    "sns.barplot(data=monthly_sales, x='month', y='quantity', palette='viridis')\n",
    "plt.title('Total Sales Quantity by Month')\n",
    "plt.xlabel('Month')\n",
    "plt.ylabel('Total Quantity Sold')\n",
    "plt.show()"
   ]
  },
  {
   "cell_type": "code",
   "execution_count": 64,
   "metadata": {},
   "outputs": [
    {
     "data": {
      "image/png": "[encoded data removed]",
      "text/plain": [
       "<Figure size 640x480 with 1 Axes>"
      ]
     },
     "metadata": {},
     "output_type": "display_data"
    }
   ],
   "source": [
    "# Group by day_of_week to calculate total sales quantity\n",
    "day_sales = data.groupby('day_of_week')['quantity'].sum().reset_index()\n",
    "\n",
    "# Plot\n",
    "sns.barplot(data=day_sales, x='day_of_week', y='quantity', palette='coolwarm')\n",
    "plt.title('Total Sales Quantity by Day of the Week')\n",
    "plt.xlabel('Day of Week (0=Sunday, 6=Saturday)')\n",
    "plt.ylabel('Total Quantity Sold')\n",
    "plt.show()"
   ]
  },
  {
   "cell_type": "code",
   "execution_count": 65,
   "metadata": {},
   "outputs": [
    {
     "data": {
      "image/png": "[encoded data removed]",
      "text/plain": [
       "<Figure size 640x480 with 1 Axes>"
      ]
     },
     "metadata": {},
     "output_type": "display_data"
    }
   ],
   "source": [
    "# Boxplot to compare quantity for promotional and non-promotional items\n",
    "sns.boxplot(data=data, x='is_promo', y='quantity', palette='Set2')\n",
    "plt.title('Impact of Promotion on Sales')\n",
    "plt.xlabel('Promotion (0=No, 1=Yes)')\n",
    "plt.ylabel('Quantity Sold')\n",
    "plt.show()"
   ]
  },
  {
   "cell_type": "code",
   "execution_count": 66,
   "metadata": {},
   "outputs": [
    {
     "name": "stdout",
     "output_type": "stream",
     "text": [
      "              count      mean        std    min  25%  50%    75%     max\n",
      "is_promo                                                                \n",
      "0         5913987.0  5.563571  29.642599 -500.0  1.0  2.0  4.000  4952.0\n",
      "1         1518966.0  5.949267  15.928087 -292.0  1.0  2.0  5.005  4243.0\n"
     ]
    }
   ],
   "source": [
    "promo_stats = data.groupby('is_promo')['quantity'].describe()\n",
    "print(promo_stats)"
   ]
  },
  {
   "cell_type": "code",
   "execution_count": 91,
   "metadata": {},
   "outputs": [],
   "source": [
    "# Remove negative prices\n",
    "data = data[data['price'] > 0]"
   ]
  },
  {
   "cell_type": "code",
   "execution_count": 68,
   "metadata": {},
   "outputs": [],
   "source": [
    "# Remove extreme outliers\n",
    "#Q1 = data['price'].quantile(0.25)\n",
    "#Q3 = data['price'].quantile(0.75)\n",
    "#IQR = Q3 - Q1\n",
    "#data = data[(data['price'] >= Q1 - 1.5*IQR) & (data['price'] <= Q3 + 1.5*IQR)]"
   ]
  },
  {
   "cell_type": "code",
   "execution_count": 92,
   "metadata": {},
   "outputs": [],
   "source": [
    "data['price'] = np.log1p(data['price'])"
   ]
  },
  {
   "cell_type": "code",
   "execution_count": 93,
   "metadata": {},
   "outputs": [],
   "source": [
    "model = Ridge(alpha=1.0)"
   ]
  },
  {
   "cell_type": "code",
   "execution_count": 94,
   "metadata": {},
   "outputs": [
    {
     "data": {
      "text/plain": [
       "0.0099503305"
      ]
     },
     "execution_count": 94,
     "metadata": {},
     "output_type": "execute_result"
    }
   ],
   "source": [
    "data.price.min()"
   ]
  },
  {
   "cell_type": "code",
   "execution_count": 107,
   "metadata": {},
   "outputs": [],
   "source": [
    "# Add lag features\n",
    "#data['quantity_lag1'] = data.groupby(['store_id', 'item_id'])['quantity'].shift(1)\n",
    "#data['quantity_lag7'] = data.groupby(['store_id', 'item_id'])['quantity'].shift(7)\n",
    "\n",
    "# Add rolling means\n",
    "#data['rolling_mean_7d'] = data.groupby(['store_id', 'item_id'])['quantity'].transform(\n",
    "#    lambda x: x.rolling(7, min_periods=1).mean()\n",
    "#)\n",
    "\n",
    "# Add price changes\n",
    "#data['price_change'] = data.groupby(['store_id', 'item_id'])['price'].pct_change()\n",
    "\n",
    "# Add seasonal features\n",
    "data['is_weekend'] = (data['day_of_week'].isin([5,6])).astype(int)\n",
    "data['is_month_end'] = (pd.to_datetime(data['date']).dt.is_month_end).astype(int)\n",
    "data['promo_price_ratio'] = data['price'] / data.groupby(['item_id'])['price'].transform('mean')\n",
    "\n",
    "\n",
    "# Add interaction terms\n",
    "#data['price_promo_interaction'] = data['price'] * data['is_promo']"
   ]
  },
  {
   "cell_type": "code",
   "execution_count": 108,
   "metadata": {},
   "outputs": [
    {
     "data": {
      "text/html": [
       "<div>\n",
       "<style scoped>\n",
       "    .dataframe tbody tr th:only-of-type {\n",
       "        vertical-align: middle;\n",
       "    }\n",
       "\n",
       "    .dataframe tbody tr th {\n",
       "        vertical-align: top;\n",
       "    }\n",
       "\n",
       "    .dataframe thead th {\n",
       "        text-align: right;\n",
       "    }\n",
       "</style>\n",
       "<table border=\"1\" class=\"dataframe\">\n",
       "  <thead>\n",
       "    <tr style=\"text-align: right;\">\n",
       "      <th></th>\n",
       "      <th>date</th>\n",
       "      <th>store_id</th>\n",
       "      <th>item_id</th>\n",
       "      <th>quantity</th>\n",
       "      <th>price</th>\n",
       "      <th>is_promo</th>\n",
       "      <th>is_markdown</th>\n",
       "      <th>promo_discount</th>\n",
       "      <th>markdown_percentage</th>\n",
       "      <th>month</th>\n",
       "      <th>day_of_week</th>\n",
       "      <th>dept_name</th>\n",
       "      <th>class_name</th>\n",
       "      <th>store_format</th>\n",
       "      <th>city</th>\n",
       "      <th>is_weekend</th>\n",
       "      <th>is_month_end</th>\n",
       "      <th>promo_price_ratio</th>\n",
       "    </tr>\n",
       "  </thead>\n",
       "  <tbody>\n",
       "    <tr>\n",
       "      <th>0</th>\n",
       "      <td>2023-08-04</td>\n",
       "      <td>0</td>\n",
       "      <td>26455</td>\n",
       "      <td>1.0</td>\n",
       "      <td>4.109233</td>\n",
       "      <td>1</td>\n",
       "      <td>0</td>\n",
       "      <td>25.031290</td>\n",
       "      <td>0.000000</td>\n",
       "      <td>8</td>\n",
       "      <td>5</td>\n",
       "      <td>90</td>\n",
       "      <td>194</td>\n",
       "      <td>0</td>\n",
       "      <td>0</td>\n",
       "      <td>1</td>\n",
       "      <td>0</td>\n",
       "      <td>0.961944</td>\n",
       "    </tr>\n",
       "    <tr>\n",
       "      <th>1</th>\n",
       "      <td>2023-08-04</td>\n",
       "      <td>0</td>\n",
       "      <td>10502</td>\n",
       "      <td>2.0</td>\n",
       "      <td>6.111246</td>\n",
       "      <td>1</td>\n",
       "      <td>0</td>\n",
       "      <td>18.185125</td>\n",
       "      <td>0.000000</td>\n",
       "      <td>8</td>\n",
       "      <td>5</td>\n",
       "      <td>14</td>\n",
       "      <td>42</td>\n",
       "      <td>0</td>\n",
       "      <td>0</td>\n",
       "      <td>1</td>\n",
       "      <td>0</td>\n",
       "      <td>0.977521</td>\n",
       "    </tr>\n",
       "    <tr>\n",
       "      <th>2</th>\n",
       "      <td>2023-08-04</td>\n",
       "      <td>0</td>\n",
       "      <td>9603</td>\n",
       "      <td>2.0</td>\n",
       "      <td>5.141078</td>\n",
       "      <td>1</td>\n",
       "      <td>0</td>\n",
       "      <td>24.146257</td>\n",
       "      <td>0.000000</td>\n",
       "      <td>8</td>\n",
       "      <td>5</td>\n",
       "      <td>48</td>\n",
       "      <td>145</td>\n",
       "      <td>0</td>\n",
       "      <td>0</td>\n",
       "      <td>1</td>\n",
       "      <td>0</td>\n",
       "      <td>0.956277</td>\n",
       "    </tr>\n",
       "    <tr>\n",
       "      <th>3</th>\n",
       "      <td>2023-08-04</td>\n",
       "      <td>0</td>\n",
       "      <td>349</td>\n",
       "      <td>7.0</td>\n",
       "      <td>4.614130</td>\n",
       "      <td>1</td>\n",
       "      <td>0</td>\n",
       "      <td>0.000000</td>\n",
       "      <td>0.000000</td>\n",
       "      <td>8</td>\n",
       "      <td>5</td>\n",
       "      <td>77</td>\n",
       "      <td>281</td>\n",
       "      <td>0</td>\n",
       "      <td>0</td>\n",
       "      <td>1</td>\n",
       "      <td>0</td>\n",
       "      <td>0.978287</td>\n",
       "    </tr>\n",
       "    <tr>\n",
       "      <th>4</th>\n",
       "      <td>2023-08-04</td>\n",
       "      <td>0</td>\n",
       "      <td>821</td>\n",
       "      <td>1.0</td>\n",
       "      <td>5.771130</td>\n",
       "      <td>1</td>\n",
       "      <td>0</td>\n",
       "      <td>20.935101</td>\n",
       "      <td>0.000000</td>\n",
       "      <td>8</td>\n",
       "      <td>5</td>\n",
       "      <td>98</td>\n",
       "      <td>482</td>\n",
       "      <td>0</td>\n",
       "      <td>0</td>\n",
       "      <td>1</td>\n",
       "      <td>0</td>\n",
       "      <td>0.990581</td>\n",
       "    </tr>\n",
       "    <tr>\n",
       "      <th>...</th>\n",
       "      <td>...</td>\n",
       "      <td>...</td>\n",
       "      <td>...</td>\n",
       "      <td>...</td>\n",
       "      <td>...</td>\n",
       "      <td>...</td>\n",
       "      <td>...</td>\n",
       "      <td>...</td>\n",
       "      <td>...</td>\n",
       "      <td>...</td>\n",
       "      <td>...</td>\n",
       "      <td>...</td>\n",
       "      <td>...</td>\n",
       "      <td>...</td>\n",
       "      <td>...</td>\n",
       "      <td>...</td>\n",
       "      <td>...</td>\n",
       "      <td>...</td>\n",
       "    </tr>\n",
       "    <tr>\n",
       "      <th>7432948</th>\n",
       "      <td>2024-09-15</td>\n",
       "      <td>3</td>\n",
       "      <td>17685</td>\n",
       "      <td>2.0</td>\n",
       "      <td>6.631079</td>\n",
       "      <td>0</td>\n",
       "      <td>1</td>\n",
       "      <td>0.000000</td>\n",
       "      <td>37.010101</td>\n",
       "      <td>9</td>\n",
       "      <td>0</td>\n",
       "      <td>161</td>\n",
       "      <td>48</td>\n",
       "      <td>3</td>\n",
       "      <td>2</td>\n",
       "      <td>0</td>\n",
       "      <td>0</td>\n",
       "      <td>0.983710</td>\n",
       "    </tr>\n",
       "    <tr>\n",
       "      <th>7432949</th>\n",
       "      <td>2024-09-15</td>\n",
       "      <td>3</td>\n",
       "      <td>13041</td>\n",
       "      <td>5.0</td>\n",
       "      <td>6.541174</td>\n",
       "      <td>0</td>\n",
       "      <td>1</td>\n",
       "      <td>0.000000</td>\n",
       "      <td>40.000000</td>\n",
       "      <td>9</td>\n",
       "      <td>0</td>\n",
       "      <td>161</td>\n",
       "      <td>20</td>\n",
       "      <td>3</td>\n",
       "      <td>2</td>\n",
       "      <td>0</td>\n",
       "      <td>0</td>\n",
       "      <td>1.008219</td>\n",
       "    </tr>\n",
       "    <tr>\n",
       "      <th>7432950</th>\n",
       "      <td>2024-08-20</td>\n",
       "      <td>3</td>\n",
       "      <td>23531</td>\n",
       "      <td>8.0</td>\n",
       "      <td>5.013963</td>\n",
       "      <td>0</td>\n",
       "      <td>1</td>\n",
       "      <td>0.000000</td>\n",
       "      <td>40.000000</td>\n",
       "      <td>8</td>\n",
       "      <td>2</td>\n",
       "      <td>0</td>\n",
       "      <td>1</td>\n",
       "      <td>3</td>\n",
       "      <td>2</td>\n",
       "      <td>0</td>\n",
       "      <td>0</td>\n",
       "      <td>0.968375</td>\n",
       "    </tr>\n",
       "    <tr>\n",
       "      <th>7432951</th>\n",
       "      <td>2024-08-27</td>\n",
       "      <td>3</td>\n",
       "      <td>23531</td>\n",
       "      <td>12.0</td>\n",
       "      <td>5.052353</td>\n",
       "      <td>0</td>\n",
       "      <td>1</td>\n",
       "      <td>0.000000</td>\n",
       "      <td>40.000000</td>\n",
       "      <td>8</td>\n",
       "      <td>2</td>\n",
       "      <td>0</td>\n",
       "      <td>1</td>\n",
       "      <td>3</td>\n",
       "      <td>2</td>\n",
       "      <td>0</td>\n",
       "      <td>0</td>\n",
       "      <td>0.975789</td>\n",
       "    </tr>\n",
       "    <tr>\n",
       "      <th>7432952</th>\n",
       "      <td>2024-08-27</td>\n",
       "      <td>3</td>\n",
       "      <td>801</td>\n",
       "      <td>19.0</td>\n",
       "      <td>5.066953</td>\n",
       "      <td>0</td>\n",
       "      <td>1</td>\n",
       "      <td>0.000000</td>\n",
       "      <td>40.000000</td>\n",
       "      <td>8</td>\n",
       "      <td>2</td>\n",
       "      <td>0</td>\n",
       "      <td>1</td>\n",
       "      <td>3</td>\n",
       "      <td>2</td>\n",
       "      <td>0</td>\n",
       "      <td>0</td>\n",
       "      <td>0.974646</td>\n",
       "    </tr>\n",
       "  </tbody>\n",
       "</table>\n",
       "<p>7424860 rows × 18 columns</p>\n",
       "</div>"
      ],
      "text/plain": [
       "              date  store_id  item_id  quantity     price  is_promo   \n",
       "0       2023-08-04         0    26455       1.0  4.109233         1  \\\n",
       "1       2023-08-04         0    10502       2.0  6.111246         1   \n",
       "2       2023-08-04         0     9603       2.0  5.141078         1   \n",
       "3       2023-08-04         0      349       7.0  4.614130         1   \n",
       "4       2023-08-04         0      821       1.0  5.771130         1   \n",
       "...            ...       ...      ...       ...       ...       ...   \n",
       "7432948 2024-09-15         3    17685       2.0  6.631079         0   \n",
       "7432949 2024-09-15         3    13041       5.0  6.541174         0   \n",
       "7432950 2024-08-20         3    23531       8.0  5.013963         0   \n",
       "7432951 2024-08-27         3    23531      12.0  5.052353         0   \n",
       "7432952 2024-08-27         3      801      19.0  5.066953         0   \n",
       "\n",
       "         is_markdown  promo_discount  markdown_percentage  month  day_of_week   \n",
       "0                  0       25.031290             0.000000      8            5  \\\n",
       "1                  0       18.185125             0.000000      8            5   \n",
       "2                  0       24.146257             0.000000      8            5   \n",
       "3                  0        0.000000             0.000000      8            5   \n",
       "4                  0       20.935101             0.000000      8            5   \n",
       "...              ...             ...                  ...    ...          ...   \n",
       "7432948            1        0.000000            37.010101      9            0   \n",
       "7432949            1        0.000000            40.000000      9            0   \n",
       "7432950            1        0.000000            40.000000      8            2   \n",
       "7432951            1        0.000000            40.000000      8            2   \n",
       "7432952            1        0.000000            40.000000      8            2   \n",
       "\n",
       "         dept_name  class_name  store_format  city  is_weekend  is_month_end   \n",
       "0               90         194             0     0           1             0  \\\n",
       "1               14          42             0     0           1             0   \n",
       "2               48         145             0     0           1             0   \n",
       "3               77         281             0     0           1             0   \n",
       "4               98         482             0     0           1             0   \n",
       "...            ...         ...           ...   ...         ...           ...   \n",
       "7432948        161          48             3     2           0             0   \n",
       "7432949        161          20             3     2           0             0   \n",
       "7432950          0           1             3     2           0             0   \n",
       "7432951          0           1             3     2           0             0   \n",
       "7432952          0           1             3     2           0             0   \n",
       "\n",
       "         promo_price_ratio  \n",
       "0                 0.961944  \n",
       "1                 0.977521  \n",
       "2                 0.956277  \n",
       "3                 0.978287  \n",
       "4                 0.990581  \n",
       "...                    ...  \n",
       "7432948           0.983710  \n",
       "7432949           1.008219  \n",
       "7432950           0.968375  \n",
       "7432951           0.975789  \n",
       "7432952           0.974646  \n",
       "\n",
       "[7424860 rows x 18 columns]"
      ]
     },
     "execution_count": 108,
     "metadata": {},
     "output_type": "execute_result"
    }
   ],
   "source": [
    "data"
   ]
  },
  {
   "cell_type": "code",
   "execution_count": 97,
   "metadata": {},
   "outputs": [],
   "source": [
    "# Prepare features\n",
    "def prepare_features(df):\n",
    "    # Encode categorical variables\n",
    "    cat_columns = ['dept_name', 'class_name', 'store_format', 'city','item_id','store_id','is_promo','is_markdown']\n",
    "    label_encoders = {}\n",
    "    \n",
    "    for col in cat_columns:\n",
    "        df[col] = df[col].fillna('Unknown')  # Handle missing values\n",
    "        label_encoders[col] = LabelEncoder()\n",
    "        df[col] = label_encoders[col].fit_transform(df[col])\n",
    "    \n",
    "    # Fill missing numerical values\n",
    "    df = df.fillna(0)\n",
    "    \n",
    "    return df, label_encoders"
   ]
  },
  {
   "cell_type": "code",
   "execution_count": 98,
   "metadata": {},
   "outputs": [
    {
     "data": {
      "text/plain": [
       "Timestamp('2024-09-26 00:00:00')"
      ]
     },
     "execution_count": 98,
     "metadata": {},
     "output_type": "execute_result"
    }
   ],
   "source": [
    "data['date'].max()"
   ]
  },
  {
   "cell_type": "code",
   "execution_count": 100,
   "metadata": {},
   "outputs": [
    {
     "data": {
      "text/html": [
       "<style>#sk-container-id-5 {color: black;background-color: white;}#sk-container-id-5 pre{padding: 0;}#sk-container-id-5 div.sk-toggleable {background-color: white;}#sk-container-id-5 label.sk-toggleable__label {cursor: pointer;display: block;width: 100%;margin-bottom: 0;padding: 0.3em;box-sizing: border-box;text-align: center;}#sk-container-id-5 label.sk-toggleable__label-arrow:before {content: \"▸\";float: left;margin-right: 0.25em;color: #696969;}#sk-container-id-5 label.sk-toggleable__label-arrow:hover:before {color: black;}#sk-container-id-5 div.sk-estimator:hover label.sk-toggleable__label-arrow:before {color: black;}#sk-container-id-5 div.sk-toggleable__content {max-height: 0;max-width: 0;overflow: hidden;text-align: left;background-color: #f0f8ff;}#sk-container-id-5 div.sk-toggleable__content pre {margin: 0.2em;color: black;border-radius: 0.25em;background-color: #f0f8ff;}#sk-container-id-5 input.sk-toggleable__control:checked~div.sk-toggleable__content {max-height: 200px;max-width: 100%;overflow: auto;}#sk-container-id-5 input.sk-toggleable__control:checked~label.sk-toggleable__label-arrow:before {content: \"▾\";}#sk-container-id-5 div.sk-estimator input.sk-toggleable__control:checked~label.sk-toggleable__label {background-color: #d4ebff;}#sk-container-id-5 div.sk-label input.sk-toggleable__control:checked~label.sk-toggleable__label {background-color: #d4ebff;}#sk-container-id-5 input.sk-hidden--visually {border: 0;clip: rect(1px 1px 1px 1px);clip: rect(1px, 1px, 1px, 1px);height: 1px;margin: -1px;overflow: hidden;padding: 0;position: absolute;width: 1px;}#sk-container-id-5 div.sk-estimator {font-family: monospace;background-color: #f0f8ff;border: 1px dotted black;border-radius: 0.25em;box-sizing: border-box;margin-bottom: 0.5em;}#sk-container-id-5 div.sk-estimator:hover {background-color: #d4ebff;}#sk-container-id-5 div.sk-parallel-item::after {content: \"\";width: 100%;border-bottom: 1px solid gray;flex-grow: 1;}#sk-container-id-5 div.sk-label:hover label.sk-toggleable__label {background-color: #d4ebff;}#sk-container-id-5 div.sk-serial::before {content: \"\";position: absolute;border-left: 1px solid gray;box-sizing: border-box;top: 0;bottom: 0;left: 50%;z-index: 0;}#sk-container-id-5 div.sk-serial {display: flex;flex-direction: column;align-items: center;background-color: white;padding-right: 0.2em;padding-left: 0.2em;position: relative;}#sk-container-id-5 div.sk-item {position: relative;z-index: 1;}#sk-container-id-5 div.sk-parallel {display: flex;align-items: stretch;justify-content: center;background-color: white;position: relative;}#sk-container-id-5 div.sk-item::before, #sk-container-id-5 div.sk-parallel-item::before {content: \"\";position: absolute;border-left: 1px solid gray;box-sizing: border-box;top: 0;bottom: 0;left: 50%;z-index: -1;}#sk-container-id-5 div.sk-parallel-item {display: flex;flex-direction: column;z-index: 1;position: relative;background-color: white;}#sk-container-id-5 div.sk-parallel-item:first-child::after {align-self: flex-end;width: 50%;}#sk-container-id-5 div.sk-parallel-item:last-child::after {align-self: flex-start;width: 50%;}#sk-container-id-5 div.sk-parallel-item:only-child::after {width: 0;}#sk-container-id-5 div.sk-dashed-wrapped {border: 1px dashed gray;margin: 0 0.4em 0.5em 0.4em;box-sizing: border-box;padding-bottom: 0.4em;background-color: white;}#sk-container-id-5 div.sk-label label {font-family: monospace;font-weight: bold;display: inline-block;line-height: 1.2em;}#sk-container-id-5 div.sk-label-container {text-align: center;}#sk-container-id-5 div.sk-container {/* jupyter's `normalize.less` sets `[hidden] { display: none; }` but bootstrap.min.css set `[hidden] { display: none !important; }` so we also need the `!important` here to be able to override the default hidden behavior on the sphinx rendered scikit-learn.org. See: https://github.com/scikit-learn/scikit-learn/issues/21755 */display: inline-block !important;position: relative;}#sk-container-id-5 div.sk-text-repr-fallback {display: none;}</style><div id=\"sk-container-id-5\" class=\"sk-top-container\"><div class=\"sk-text-repr-fallback\"><pre>XGBRegressor(base_score=None, booster=None, callbacks=None,\n",
       "             colsample_bylevel=None, colsample_bynode=None,\n",
       "             colsample_bytree=None, early_stopping_rounds=None,\n",
       "             enable_categorical=False, eval_metric=None, feature_types=None,\n",
       "             gamma=None, gpu_id=None, grow_policy=None, importance_type=None,\n",
       "             interaction_constraints=None, learning_rate=0.1, max_bin=None,\n",
       "             max_cat_threshold=None, max_cat_to_onehot=None,\n",
       "             max_delta_step=None, max_depth=14, max_leaves=None,\n",
       "             min_child_weight=None, missing=nan, monotone_constraints=None,\n",
       "             n_estimators=100, n_jobs=None, num_parallel_tree=None,\n",
       "             predictor=None, random_state=42, ...)</pre><b>In a Jupyter environment, please rerun this cell to show the HTML representation or trust the notebook. <br />On GitHub, the HTML representation is unable to render, please try loading this page with nbviewer.org.</b></div><div class=\"sk-container\" hidden><div class=\"sk-item\"><div class=\"sk-estimator sk-toggleable\"><input class=\"sk-toggleable__control sk-hidden--visually\" id=\"sk-estimator-id-5\" type=\"checkbox\" checked><label for=\"sk-estimator-id-5\" class=\"sk-toggleable__label sk-toggleable__label-arrow\">XGBRegressor</label><div class=\"sk-toggleable__content\"><pre>XGBRegressor(base_score=None, booster=None, callbacks=None,\n",
       "             colsample_bylevel=None, colsample_bynode=None,\n",
       "             colsample_bytree=None, early_stopping_rounds=None,\n",
       "             enable_categorical=False, eval_metric=None, feature_types=None,\n",
       "             gamma=None, gpu_id=None, grow_policy=None, importance_type=None,\n",
       "             interaction_constraints=None, learning_rate=0.1, max_bin=None,\n",
       "             max_cat_threshold=None, max_cat_to_onehot=None,\n",
       "             max_delta_step=None, max_depth=14, max_leaves=None,\n",
       "             min_child_weight=None, missing=nan, monotone_constraints=None,\n",
       "             n_estimators=100, n_jobs=None, num_parallel_tree=None,\n",
       "             predictor=None, random_state=42, ...)</pre></div></div></div></div></div>"
      ],
      "text/plain": [
       "XGBRegressor(base_score=None, booster=None, callbacks=None,\n",
       "             colsample_bylevel=None, colsample_bynode=None,\n",
       "             colsample_bytree=None, early_stopping_rounds=None,\n",
       "             enable_categorical=False, eval_metric=None, feature_types=None,\n",
       "             gamma=None, gpu_id=None, grow_policy=None, importance_type=None,\n",
       "             interaction_constraints=None, learning_rate=0.1, max_bin=None,\n",
       "             max_cat_threshold=None, max_cat_to_onehot=None,\n",
       "             max_delta_step=None, max_depth=14, max_leaves=None,\n",
       "             min_child_weight=None, missing=nan, monotone_constraints=None,\n",
       "             n_estimators=100, n_jobs=None, num_parallel_tree=None,\n",
       "             predictor=None, random_state=42, ...)"
      ]
     },
     "execution_count": 100,
     "metadata": {},
     "output_type": "execute_result"
    }
   ],
   "source": [
    "# Prepare the data\n",
    "data, label_encoders = prepare_features(data)\n",
    "\n",
    "# Split features and target\n",
    "target = 'quantity'\n",
    "features = ['price', 'month', 'day_of_week', 'dept_name', 'class_name', \n",
    "            'store_format', 'city', 'store_id', 'item_id','is_promo','is_markdown',\n",
    "            'is_weekend','is_month_end']\n",
    "\n",
    "X = data[features]\n",
    "y = data[target]\n",
    "\n",
    "# Split train/test based on date\n",
    "split_date = '2024-06-01'  # adjust based on your data\n",
    "train_mask = pd.to_datetime(data['date']) < split_date\n",
    "X_train = X[train_mask]\n",
    "X_test = X[~train_mask]\n",
    "y_train = y[train_mask]\n",
    "y_test = y[~train_mask]\n",
    "\n",
    "\n",
    "# Train model\n",
    "model = XGBRegressor(\n",
    "    n_estimators=100,\n",
    "    learning_rate=0.1,\n",
    "    max_depth=14,\n",
    "    random_state=42,\n",
    "    #enable_categorical=True\n",
    ")\n",
    "model.fit(X_train, y_train)\n"
   ]
  },
  {
   "cell_type": "code",
   "execution_count": 110,
   "metadata": {},
   "outputs": [
    {
     "data": {
      "text/html": [
       "<style>#sk-container-id-6 {color: black;background-color: white;}#sk-container-id-6 pre{padding: 0;}#sk-container-id-6 div.sk-toggleable {background-color: white;}#sk-container-id-6 label.sk-toggleable__label {cursor: pointer;display: block;width: 100%;margin-bottom: 0;padding: 0.3em;box-sizing: border-box;text-align: center;}#sk-container-id-6 label.sk-toggleable__label-arrow:before {content: \"▸\";float: left;margin-right: 0.25em;color: #696969;}#sk-container-id-6 label.sk-toggleable__label-arrow:hover:before {color: black;}#sk-container-id-6 div.sk-estimator:hover label.sk-toggleable__label-arrow:before {color: black;}#sk-container-id-6 div.sk-toggleable__content {max-height: 0;max-width: 0;overflow: hidden;text-align: left;background-color: #f0f8ff;}#sk-container-id-6 div.sk-toggleable__content pre {margin: 0.2em;color: black;border-radius: 0.25em;background-color: #f0f8ff;}#sk-container-id-6 input.sk-toggleable__control:checked~div.sk-toggleable__content {max-height: 200px;max-width: 100%;overflow: auto;}#sk-container-id-6 input.sk-toggleable__control:checked~label.sk-toggleable__label-arrow:before {content: \"▾\";}#sk-container-id-6 div.sk-estimator input.sk-toggleable__control:checked~label.sk-toggleable__label {background-color: #d4ebff;}#sk-container-id-6 div.sk-label input.sk-toggleable__control:checked~label.sk-toggleable__label {background-color: #d4ebff;}#sk-container-id-6 input.sk-hidden--visually {border: 0;clip: rect(1px 1px 1px 1px);clip: rect(1px, 1px, 1px, 1px);height: 1px;margin: -1px;overflow: hidden;padding: 0;position: absolute;width: 1px;}#sk-container-id-6 div.sk-estimator {font-family: monospace;background-color: #f0f8ff;border: 1px dotted black;border-radius: 0.25em;box-sizing: border-box;margin-bottom: 0.5em;}#sk-container-id-6 div.sk-estimator:hover {background-color: #d4ebff;}#sk-container-id-6 div.sk-parallel-item::after {content: \"\";width: 100%;border-bottom: 1px solid gray;flex-grow: 1;}#sk-container-id-6 div.sk-label:hover label.sk-toggleable__label {background-color: #d4ebff;}#sk-container-id-6 div.sk-serial::before {content: \"\";position: absolute;border-left: 1px solid gray;box-sizing: border-box;top: 0;bottom: 0;left: 50%;z-index: 0;}#sk-container-id-6 div.sk-serial {display: flex;flex-direction: column;align-items: center;background-color: white;padding-right: 0.2em;padding-left: 0.2em;position: relative;}#sk-container-id-6 div.sk-item {position: relative;z-index: 1;}#sk-container-id-6 div.sk-parallel {display: flex;align-items: stretch;justify-content: center;background-color: white;position: relative;}#sk-container-id-6 div.sk-item::before, #sk-container-id-6 div.sk-parallel-item::before {content: \"\";position: absolute;border-left: 1px solid gray;box-sizing: border-box;top: 0;bottom: 0;left: 50%;z-index: -1;}#sk-container-id-6 div.sk-parallel-item {display: flex;flex-direction: column;z-index: 1;position: relative;background-color: white;}#sk-container-id-6 div.sk-parallel-item:first-child::after {align-self: flex-end;width: 50%;}#sk-container-id-6 div.sk-parallel-item:last-child::after {align-self: flex-start;width: 50%;}#sk-container-id-6 div.sk-parallel-item:only-child::after {width: 0;}#sk-container-id-6 div.sk-dashed-wrapped {border: 1px dashed gray;margin: 0 0.4em 0.5em 0.4em;box-sizing: border-box;padding-bottom: 0.4em;background-color: white;}#sk-container-id-6 div.sk-label label {font-family: monospace;font-weight: bold;display: inline-block;line-height: 1.2em;}#sk-container-id-6 div.sk-label-container {text-align: center;}#sk-container-id-6 div.sk-container {/* jupyter's `normalize.less` sets `[hidden] { display: none; }` but bootstrap.min.css set `[hidden] { display: none !important; }` so we also need the `!important` here to be able to override the default hidden behavior on the sphinx rendered scikit-learn.org. See: https://github.com/scikit-learn/scikit-learn/issues/21755 */display: inline-block !important;position: relative;}#sk-container-id-6 div.sk-text-repr-fallback {display: none;}</style><div id=\"sk-container-id-6\" class=\"sk-top-container\"><div class=\"sk-text-repr-fallback\"><pre>GradientBoostingRegressor(max_depth=5, random_state=42)</pre><b>In a Jupyter environment, please rerun this cell to show the HTML representation or trust the notebook. <br />On GitHub, the HTML representation is unable to render, please try loading this page with nbviewer.org.</b></div><div class=\"sk-container\" hidden><div class=\"sk-item\"><div class=\"sk-estimator sk-toggleable\"><input class=\"sk-toggleable__control sk-hidden--visually\" id=\"sk-estimator-id-6\" type=\"checkbox\" checked><label for=\"sk-estimator-id-6\" class=\"sk-toggleable__label sk-toggleable__label-arrow\">GradientBoostingRegressor</label><div class=\"sk-toggleable__content\"><pre>GradientBoostingRegressor(max_depth=5, random_state=42)</pre></div></div></div></div></div>"
      ],
      "text/plain": [
       "GradientBoostingRegressor(max_depth=5, random_state=42)"
      ]
     },
     "execution_count": 110,
     "metadata": {},
     "output_type": "execute_result"
    }
   ],
   "source": [
    "from sklearn.ensemble import GradientBoostingRegressor\n",
    "model_GBR = GradientBoostingRegressor(\n",
    "    n_estimators=100,\n",
    "    learning_rate=0.1,\n",
    "    max_depth=5,\n",
    "    random_state=42\n",
    ")\n",
    "\n",
    "model_GBR.fit(X_train, y_train)"
   ]
  },
  {
   "cell_type": "code",
   "execution_count": 102,
   "metadata": {},
   "outputs": [
    {
     "data": {
      "text/plain": [
       "0.0099503305"
      ]
     },
     "execution_count": 102,
     "metadata": {},
     "output_type": "execute_result"
    }
   ],
   "source": [
    "data.price.min()"
   ]
  },
  {
   "cell_type": "code",
   "execution_count": 112,
   "metadata": {},
   "outputs": [
    {
     "name": "stdout",
     "output_type": "stream",
     "text": [
      "\n",
      "Model Evaluation Metrics:\n",
      "RMSE: 19.80\n",
      "MAE: 3.26\n",
      "R2 Score: 0.60\n"
     ]
    }
   ],
   "source": [
    "# Evaluate\n",
    "y_pred = model.predict(X_test)\n",
    "print(\"\\nModel Evaluation Metrics:\")\n",
    "print(f\"RMSE: {np.sqrt(mean_squared_error(y_test, y_pred)):.2f}\")\n",
    "print(f\"MAE: {mean_absolute_error(y_test, y_pred):.2f}\")\n",
    "print(f\"R2 Score: {r2_score(y_test, y_pred):.2f}\")"
   ]
  },
  {
   "cell_type": "code",
   "execution_count": 104,
   "metadata": {},
   "outputs": [
    {
     "data": {
      "text/plain": [
       "(5819285, 13)"
      ]
     },
     "execution_count": 104,
     "metadata": {},
     "output_type": "execute_result"
    }
   ],
   "source": [
    "X_train.shape"
   ]
  },
  {
   "cell_type": "code",
   "execution_count": 105,
   "metadata": {},
   "outputs": [
    {
     "data": {
      "text/plain": [
       "(1605575, 13)"
      ]
     },
     "execution_count": 105,
     "metadata": {},
     "output_type": "execute_result"
    }
   ],
   "source": [
    "X_test.shape"
   ]
  },
  {
   "cell_type": "markdown",
   "metadata": {},
   "source": [
    "* Feature importance show that rolling_mean_7d is the most important feature"
   ]
  },
  {
   "cell_type": "code",
   "execution_count": 106,
   "metadata": {},
   "outputs": [
    {
     "name": "stdout",
     "output_type": "stream",
     "text": [
      "\n",
      "Feature Importance:\n",
      "         feature  importance\n",
      "5   store_format    0.388666\n",
      "4     class_name    0.198343\n",
      "8        item_id    0.193146\n",
      "3      dept_name    0.092250\n",
      "0          price    0.050775\n",
      "9       is_promo    0.039977\n",
      "2    day_of_week    0.014296\n",
      "12  is_month_end    0.009358\n",
      "10   is_markdown    0.006665\n",
      "1          month    0.006523\n",
      "6           city    0.000000\n",
      "7       store_id    0.000000\n",
      "11    is_weekend    0.000000\n"
     ]
    }
   ],
   "source": [
    "# Show feature importance\n",
    "importance = pd.DataFrame({\n",
    "    'feature': features,\n",
    "    'importance': model.feature_importances_\n",
    "})\n",
    "print(\"\\nFeature Importance:\")\n",
    "print(importance.sort_values('importance', ascending=False))"
   ]
  },
  {
   "cell_type": "code",
   "execution_count": 83,
   "metadata": {},
   "outputs": [
    {
     "data": {
      "text/plain": [
       "date                   datetime64[us]\n",
       "store_id                        int64\n",
       "item_id                         int64\n",
       "quantity                      float32\n",
       "price                         float32\n",
       "is_promo                        int64\n",
       "is_markdown                     int64\n",
       "promo_discount                float32\n",
       "markdown_percentage           float32\n",
       "month                           int64\n",
       "day_of_week                     int64\n",
       "dept_name                       int64\n",
       "class_name                      int64\n",
       "store_format                    int64\n",
       "city                            int64\n",
       "quantity_lag1                 float32\n",
       "quantity_lag7                 float32\n",
       "rolling_mean_7d               float64\n",
       "dtype: object"
      ]
     },
     "execution_count": 83,
     "metadata": {},
     "output_type": "execute_result"
    }
   ],
   "source": [
    "data.dtypes"
   ]
  }
 ],
 "metadata": {
  "kernelspec": {
   "display_name": "3.11.3",
   "language": "python",
   "name": "python3"
  },
  "language_info": {
   "codemirror_mode": {
    "name": "ipython",
    "version": 3
   },
   "file_extension": ".py",
   "mimetype": "text/x-python",
   "name": "python",
   "nbconvert_exporter": "python",
   "pygments_lexer": "ipython3",
   "version": "3.11.3"
  }
 },
 "nbformat": 4,
 "nbformat_minor": 2
}
