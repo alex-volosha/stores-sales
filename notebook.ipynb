{
 "cells": [
  {
   "cell_type": "code",
   "execution_count": 1,
   "metadata": {},
   "outputs": [],
   "source": [
    "import duckdb\n",
    "import pandas as pd\n",
    "import numpy as np\n",
    "from xgboost import XGBRegressor\n",
    "from sklearn.preprocessing import LabelEncoder\n",
    "from sklearn.metrics import mean_squared_error, mean_absolute_error, r2_score\n",
    "import seaborn as sns\n",
    "import matplotlib.pyplot as plt\n",
    "from sklearn.linear_model import Ridge"
   ]
  },
  {
   "cell_type": "code",
   "execution_count": 3,
   "metadata": {},
   "outputs": [
    {
     "name": "stdout",
     "output_type": "stream",
     "text": [
      "Cleaned data saved to price_history_cleaned.csv.\n"
     ]
    }
   ],
   "source": [
    "# Load the CSV file\n",
    "file_path = 'data/price_history.csv'\n",
    "price_history = pd.read_csv(file_path)\n",
    "\n",
    "# Remove rows where the price column is zero\n",
    "price_history_cleaned = price_history[price_history['price'] != 0]\n",
    "price_history_cleaned = price_history_cleaned.drop(columns=['code'])\n",
    "\n",
    "# Save the cleaned table to a new file\n",
    "output_path = 'price_history_cleaned.csv'\n",
    "price_history_cleaned.to_csv(output_path, index=False)\n",
    "\n",
    "print(f\"Cleaned data saved to {output_path}.\")"
   ]
  },
  {
   "cell_type": "code",
   "execution_count": 4,
   "metadata": {},
   "outputs": [],
   "source": [
    "# Connect to DuckDB\n",
    "con = duckdb.connect()\n",
    "\n",
    "# Create simpler dataset with basic features\n",
    "data = con.execute(\"\"\"\n",
    "    WITH sales_data AS (\n",
    "    SELECT \n",
    "        s.date,\n",
    "        s.store_id,\n",
    "        s.item_id,\n",
    "        CAST(s.quantity AS FLOAT) as quantity,\n",
    "        CAST(s.price_base AS FLOAT) as price,\n",
    "        CAST(CASE WHEN d.doc_id IS NOT NULL THEN 1 ELSE 0 END AS INTEGER) as is_promo,\n",
    "        CAST(CASE WHEN m.price IS NOT NULL THEN 1 ELSE 0 END AS INTEGER) as is_markdown,\n",
    "        CAST(COALESCE((d.sale_price_before_promo - d.sale_price_time_promo) / \n",
    "            NULLIF(d.sale_price_before_promo, 0) * 100, 0) AS FLOAT) as promo_discount,\n",
    "        CAST(COALESCE((m.normal_price - m.price) / \n",
    "            NULLIF(m.normal_price, 0) * 100, 0) AS FLOAT) as markdown_percentage,\n",
    "        CAST(COALESCE((ph.price - s.price_base) / \n",
    "            NULLIF(s.price_base, 0) * 100, 0) AS FLOAT) as price_change_percentage,\n",
    "        EXTRACT(MONTH FROM s.date) as month,\n",
    "        EXTRACT(DOW FROM s.date) as day_of_week,\n",
    "        c.dept_name,\n",
    "        c.class_name,\n",
    "        st.format as store_format,\n",
    "        st.city\n",
    "    FROM read_csv_auto('data/sales.csv') s\n",
    "    LEFT JOIN read_csv_auto('data/catalog.csv') c ON s.item_id = c.item_id\n",
    "    LEFT JOIN read_csv_auto('data/stores.csv') st ON s.store_id = st.store_id\n",
    "    LEFT JOIN read_csv_auto('data/discounts_history.csv') d \n",
    "        ON s.item_id = d.item_id \n",
    "        AND s.date = d.date\n",
    "        AND s.store_id = d.store_id\n",
    "    LEFT JOIN read_csv_auto('data/markdowns.csv') m \n",
    "        ON s.item_id = m.item_id \n",
    "        AND s.date = m.date\n",
    "        AND s.store_id = m.store_id\n",
    "    LEFT JOIN read_csv_auto('data/price_history_cleaned.csv') ph\n",
    "        ON s.item_id = ph.item_id\n",
    "        AND s.date = ph.date \n",
    "        AND s.store_id = ph.store_id\n",
    "    )\n",
    "    SELECT *\n",
    "    FROM sales_data\n",
    "\"\"\").fetchdf()"
   ]
  },
  {
   "cell_type": "code",
   "execution_count": 5,
   "metadata": {},
   "outputs": [
    {
     "data": {
      "text/plain": [
       "date                           0\n",
       "store_id                       0\n",
       "item_id                        0\n",
       "quantity                       0\n",
       "price                          0\n",
       "is_promo                       0\n",
       "is_markdown                    0\n",
       "promo_discount                 0\n",
       "markdown_percentage            0\n",
       "price_change_percentage        0\n",
       "month                          0\n",
       "day_of_week                    0\n",
       "dept_name                  36700\n",
       "class_name                 36700\n",
       "store_format                   0\n",
       "city                           0\n",
       "dtype: int64"
      ]
     },
     "execution_count": 5,
     "metadata": {},
     "output_type": "execute_result"
    }
   ],
   "source": [
    "data.isnull().sum()"
   ]
  },
  {
   "cell_type": "code",
   "execution_count": 6,
   "metadata": {},
   "outputs": [
    {
     "data": {
      "text/html": [
       "<div>\n",
       "<style scoped>\n",
       "    .dataframe tbody tr th:only-of-type {\n",
       "        vertical-align: middle;\n",
       "    }\n",
       "\n",
       "    .dataframe tbody tr th {\n",
       "        vertical-align: top;\n",
       "    }\n",
       "\n",
       "    .dataframe thead th {\n",
       "        text-align: right;\n",
       "    }\n",
       "</style>\n",
       "<table border=\"1\" class=\"dataframe\">\n",
       "  <thead>\n",
       "    <tr style=\"text-align: right;\">\n",
       "      <th></th>\n",
       "      <th>date</th>\n",
       "      <th>store_id</th>\n",
       "      <th>item_id</th>\n",
       "      <th>quantity</th>\n",
       "      <th>price</th>\n",
       "      <th>is_promo</th>\n",
       "      <th>is_markdown</th>\n",
       "      <th>promo_discount</th>\n",
       "      <th>markdown_percentage</th>\n",
       "      <th>price_change_percentage</th>\n",
       "      <th>month</th>\n",
       "      <th>day_of_week</th>\n",
       "      <th>dept_name</th>\n",
       "      <th>class_name</th>\n",
       "      <th>store_format</th>\n",
       "      <th>city</th>\n",
       "    </tr>\n",
       "  </thead>\n",
       "  <tbody>\n",
       "    <tr>\n",
       "      <th>7463137</th>\n",
       "      <td>2024-01-26</td>\n",
       "      <td>4</td>\n",
       "      <td>4cf0bb777594</td>\n",
       "      <td>1.0</td>\n",
       "      <td>359.000000</td>\n",
       "      <td>0</td>\n",
       "      <td>1</td>\n",
       "      <td>0.0</td>\n",
       "      <td>36.906853</td>\n",
       "      <td>58.495823</td>\n",
       "      <td>1</td>\n",
       "      <td>5</td>\n",
       "      <td>ТОРТЫ</td>\n",
       "      <td>БИСКВИТНЫЕ ШОКОЛАДНЫЕ</td>\n",
       "      <td>MaxiEuro</td>\n",
       "      <td>City3</td>\n",
       "    </tr>\n",
       "    <tr>\n",
       "      <th>7463138</th>\n",
       "      <td>2024-01-26</td>\n",
       "      <td>4</td>\n",
       "      <td>e7ff6ea67040</td>\n",
       "      <td>10.0</td>\n",
       "      <td>167.000000</td>\n",
       "      <td>0</td>\n",
       "      <td>1</td>\n",
       "      <td>0.0</td>\n",
       "      <td>50.193050</td>\n",
       "      <td>55.089821</td>\n",
       "      <td>1</td>\n",
       "      <td>5</td>\n",
       "      <td>ПИРОЖНЫЕ</td>\n",
       "      <td>ЗАВАРНЫЕ</td>\n",
       "      <td>MaxiEuro</td>\n",
       "      <td>City3</td>\n",
       "    </tr>\n",
       "    <tr>\n",
       "      <th>7463139</th>\n",
       "      <td>2024-01-26</td>\n",
       "      <td>4</td>\n",
       "      <td>dd94e2bc5601</td>\n",
       "      <td>13.0</td>\n",
       "      <td>149.020004</td>\n",
       "      <td>0</td>\n",
       "      <td>1</td>\n",
       "      <td>0.0</td>\n",
       "      <td>50.251255</td>\n",
       "      <td>33.539124</td>\n",
       "      <td>1</td>\n",
       "      <td>5</td>\n",
       "      <td>ПИРОЖНЫЕ</td>\n",
       "      <td>БИСКВИТНЫЕ ШОКОЛАДНЫЕ</td>\n",
       "      <td>MaxiEuro</td>\n",
       "      <td>City3</td>\n",
       "    </tr>\n",
       "    <tr>\n",
       "      <th>7463140</th>\n",
       "      <td>2024-01-26</td>\n",
       "      <td>4</td>\n",
       "      <td>17abde81f33d</td>\n",
       "      <td>3.0</td>\n",
       "      <td>381.670013</td>\n",
       "      <td>0</td>\n",
       "      <td>1</td>\n",
       "      <td>0.0</td>\n",
       "      <td>34.068138</td>\n",
       "      <td>30.741217</td>\n",
       "      <td>1</td>\n",
       "      <td>5</td>\n",
       "      <td>ТОРТЫ</td>\n",
       "      <td>ВОЗДУШНЫЕ</td>\n",
       "      <td>MaxiEuro</td>\n",
       "      <td>City3</td>\n",
       "    </tr>\n",
       "    <tr>\n",
       "      <th>7463141</th>\n",
       "      <td>2022-09-29</td>\n",
       "      <td>1</td>\n",
       "      <td>986dbd10687c</td>\n",
       "      <td>10.0</td>\n",
       "      <td>91.940002</td>\n",
       "      <td>0</td>\n",
       "      <td>1</td>\n",
       "      <td>0.0</td>\n",
       "      <td>46.631088</td>\n",
       "      <td>117.424408</td>\n",
       "      <td>9</td>\n",
       "      <td>4</td>\n",
       "      <td>СЛАДКИЕ МУЧНЫЕ ИЗДЕЛИЯ</td>\n",
       "      <td>ПЕЧЕНЬЕ</td>\n",
       "      <td>Format-1</td>\n",
       "      <td>City1</td>\n",
       "    </tr>\n",
       "  </tbody>\n",
       "</table>\n",
       "</div>"
      ],
      "text/plain": [
       "              date  store_id       item_id  quantity       price  is_promo   \n",
       "7463137 2024-01-26         4  4cf0bb777594       1.0  359.000000         0  \\\n",
       "7463138 2024-01-26         4  e7ff6ea67040      10.0  167.000000         0   \n",
       "7463139 2024-01-26         4  dd94e2bc5601      13.0  149.020004         0   \n",
       "7463140 2024-01-26         4  17abde81f33d       3.0  381.670013         0   \n",
       "7463141 2022-09-29         1  986dbd10687c      10.0   91.940002         0   \n",
       "\n",
       "         is_markdown  promo_discount  markdown_percentage   \n",
       "7463137            1             0.0            36.906853  \\\n",
       "7463138            1             0.0            50.193050   \n",
       "7463139            1             0.0            50.251255   \n",
       "7463140            1             0.0            34.068138   \n",
       "7463141            1             0.0            46.631088   \n",
       "\n",
       "         price_change_percentage  month  day_of_week               dept_name   \n",
       "7463137                58.495823      1            5                   ТОРТЫ  \\\n",
       "7463138                55.089821      1            5                ПИРОЖНЫЕ   \n",
       "7463139                33.539124      1            5                ПИРОЖНЫЕ   \n",
       "7463140                30.741217      1            5                   ТОРТЫ   \n",
       "7463141               117.424408      9            4  СЛАДКИЕ МУЧНЫЕ ИЗДЕЛИЯ   \n",
       "\n",
       "                    class_name store_format   city  \n",
       "7463137  БИСКВИТНЫЕ ШОКОЛАДНЫЕ     MaxiEuro  City3  \n",
       "7463138               ЗАВАРНЫЕ     MaxiEuro  City3  \n",
       "7463139  БИСКВИТНЫЕ ШОКОЛАДНЫЕ     MaxiEuro  City3  \n",
       "7463140              ВОЗДУШНЫЕ     MaxiEuro  City3  \n",
       "7463141                ПЕЧЕНЬЕ     Format-1  City1  "
      ]
     },
     "execution_count": 6,
     "metadata": {},
     "output_type": "execute_result"
    }
   ],
   "source": [
    "data.tail()"
   ]
  },
  {
   "cell_type": "code",
   "execution_count": 7,
   "metadata": {},
   "outputs": [
    {
     "data": {
      "image/png": "[encoded data removed]",
      "text/plain": [
       "<Figure size 640x480 with 1 Axes>"
      ]
     },
     "metadata": {},
     "output_type": "display_data"
    }
   ],
   "source": [
    "monthly_sales = data.groupby('month')['quantity'].sum().reset_index()\n",
    "\n",
    "# Plot\n",
    "sns.barplot(data=monthly_sales, x='month', y='quantity', palette='viridis')\n",
    "plt.title('Total Sales Quantity by Month')\n",
    "plt.xlabel('Month')\n",
    "plt.ylabel('Total Quantity Sold')\n",
    "plt.show()"
   ]
  },
  {
   "cell_type": "code",
   "execution_count": 64,
   "metadata": {},
   "outputs": [
    {
     "data": {
      "image/png": "[encoded data removed]",
      "text/plain": [
       "<Figure size 640x480 with 1 Axes>"
      ]
     },
     "metadata": {},
     "output_type": "display_data"
    }
   ],
   "source": [
    "# Group by day_of_week to calculate total sales quantity\n",
    "day_sales = data.groupby('day_of_week')['quantity'].sum().reset_index()\n",
    "\n",
    "# Plot\n",
    "sns.barplot(data=day_sales, x='day_of_week', y='quantity', palette='coolwarm')\n",
    "plt.title('Total Sales Quantity by Day of the Week')\n",
    "plt.xlabel('Day of Week (0=Sunday, 6=Saturday)')\n",
    "plt.ylabel('Total Quantity Sold')\n",
    "plt.show()"
   ]
  },
  {
   "cell_type": "code",
   "execution_count": 65,
   "metadata": {},
   "outputs": [
    {
     "data": {
      "image/png": "[encoded data removed]",
      "text/plain": [
       "<Figure size 640x480 with 1 Axes>"
      ]
     },
     "metadata": {},
     "output_type": "display_data"
    }
   ],
   "source": [
    "# Boxplot to compare quantity for promotional and non-promotional items\n",
    "sns.boxplot(data=data, x='is_promo', y='quantity', palette='Set2')\n",
    "plt.title('Impact of Promotion on Sales')\n",
    "plt.xlabel('Promotion (0=No, 1=Yes)')\n",
    "plt.ylabel('Quantity Sold')\n",
    "plt.show()"
   ]
  },
  {
   "cell_type": "code",
   "execution_count": 8,
   "metadata": {},
   "outputs": [
    {
     "name": "stdout",
     "output_type": "stream",
     "text": [
      "              count      mean        std    min  25%  50%    75%     max\n",
      "is_promo                                                                \n",
      "0         5933507.0  5.569339  29.638353 -500.0  1.0  2.0  4.000  4952.0\n",
      "1         1529635.0  5.955963  15.940682 -292.0  1.0  2.0  5.042  4243.0\n"
     ]
    }
   ],
   "source": [
    "promo_stats = data.groupby('is_promo')['quantity'].describe()\n",
    "print(promo_stats)"
   ]
  },
  {
   "cell_type": "code",
   "execution_count": 9,
   "metadata": {},
   "outputs": [],
   "source": [
    "# Remove negative prices\n",
    "data = data[data['price'] > 0]"
   ]
  },
  {
   "cell_type": "code",
   "execution_count": 68,
   "metadata": {},
   "outputs": [],
   "source": [
    "# Remove extreme outliers\n",
    "#Q1 = data['price'].quantile(0.25)\n",
    "#Q3 = data['price'].quantile(0.75)\n",
    "#IQR = Q3 - Q1\n",
    "#data = data[(data['price'] >= Q1 - 1.5*IQR) & (data['price'] <= Q3 + 1.5*IQR)]"
   ]
  },
  {
   "cell_type": "code",
   "execution_count": 83,
   "metadata": {},
   "outputs": [
    {
     "data": {
      "text/plain": [
       "date                   datetime64[us]\n",
       "store_id                        int64\n",
       "item_id                         int64\n",
       "quantity                      float32\n",
       "price                         float32\n",
       "is_promo                        int64\n",
       "is_markdown                     int64\n",
       "promo_discount                float32\n",
       "markdown_percentage           float32\n",
       "month                           int64\n",
       "day_of_week                     int64\n",
       "dept_name                       int64\n",
       "class_name                      int64\n",
       "store_format                    int64\n",
       "city                            int64\n",
       "quantity_lag1                 float32\n",
       "quantity_lag7                 float32\n",
       "rolling_mean_7d               float64\n",
       "dtype: object"
      ]
     },
     "execution_count": 83,
     "metadata": {},
     "output_type": "execute_result"
    }
   ],
   "source": [
    "data.dtypes"
   ]
  },
  {
   "cell_type": "code",
   "execution_count": 10,
   "metadata": {},
   "outputs": [],
   "source": [
    "data['price'] = np.log1p(data['price'])"
   ]
  },
  {
   "cell_type": "code",
   "execution_count": 11,
   "metadata": {},
   "outputs": [],
   "source": [
    "model = Ridge(alpha=1.0)"
   ]
  },
  {
   "cell_type": "code",
   "execution_count": 12,
   "metadata": {},
   "outputs": [
    {
     "data": {
      "text/plain": [
       "0.0099503305"
      ]
     },
     "execution_count": 12,
     "metadata": {},
     "output_type": "execute_result"
    }
   ],
   "source": [
    "data.price.min()"
   ]
  },
  {
   "cell_type": "code",
   "execution_count": 13,
   "metadata": {},
   "outputs": [],
   "source": [
    "# Add lag features\n",
    "#data['quantity_lag1'] = data.groupby(['store_id', 'item_id'])['quantity'].shift(1)\n",
    "#data['quantity_lag7'] = data.groupby(['store_id', 'item_id'])['quantity'].shift(7)\n",
    "\n",
    "# Add rolling means\n",
    "#data['rolling_mean_7d'] = data.groupby(['store_id', 'item_id'])['quantity'].transform(\n",
    "#    lambda x: x.rolling(7, min_periods=1).mean()\n",
    "#)\n",
    "\n",
    "# Add price changes\n",
    "#data['price_change'] = data.groupby(['store_id', 'item_id'])['price'].pct_change()\n",
    "\n",
    "# Add seasonal features\n",
    "data['is_weekend'] = (data['day_of_week'].isin([5,6])).astype(int)\n",
    "data['is_month_end'] = (pd.to_datetime(data['date']).dt.is_month_end).astype(int)\n",
    "data['promo_price_ratio'] = data['price'] / data.groupby(['item_id'])['price'].transform('mean')\n",
    "\n",
    "\n",
    "# Add interaction terms\n",
    "#data['price_promo_interaction'] = data['price'] * data['is_promo']"
   ]
  },
  {
   "cell_type": "code",
   "execution_count": 157,
   "metadata": {},
   "outputs": [
    {
     "data": {
      "text/html": [
       "<div>\n",
       "<style scoped>\n",
       "    .dataframe tbody tr th:only-of-type {\n",
       "        vertical-align: middle;\n",
       "    }\n",
       "\n",
       "    .dataframe tbody tr th {\n",
       "        vertical-align: top;\n",
       "    }\n",
       "\n",
       "    .dataframe thead th {\n",
       "        text-align: right;\n",
       "    }\n",
       "</style>\n",
       "<table border=\"1\" class=\"dataframe\">\n",
       "  <thead>\n",
       "    <tr style=\"text-align: right;\">\n",
       "      <th></th>\n",
       "      <th>date</th>\n",
       "      <th>store_id</th>\n",
       "      <th>item_id</th>\n",
       "      <th>quantity</th>\n",
       "      <th>price</th>\n",
       "      <th>is_promo</th>\n",
       "      <th>is_markdown</th>\n",
       "      <th>promo_discount</th>\n",
       "      <th>markdown_percentage</th>\n",
       "      <th>price_change_percentage</th>\n",
       "      <th>month</th>\n",
       "      <th>day_of_week</th>\n",
       "      <th>dept_name</th>\n",
       "      <th>class_name</th>\n",
       "      <th>store_format</th>\n",
       "      <th>city</th>\n",
       "      <th>is_weekend</th>\n",
       "      <th>is_month_end</th>\n",
       "      <th>promo_price_ratio</th>\n",
       "    </tr>\n",
       "  </thead>\n",
       "  <tbody>\n",
       "    <tr>\n",
       "      <th>0</th>\n",
       "      <td>2023-09-14</td>\n",
       "      <td>1</td>\n",
       "      <td>0a832c545a6a</td>\n",
       "      <td>2.000000</td>\n",
       "      <td>4.794964</td>\n",
       "      <td>1</td>\n",
       "      <td>0</td>\n",
       "      <td>27.793219</td>\n",
       "      <td>0.000000</td>\n",
       "      <td>0.000000</td>\n",
       "      <td>9</td>\n",
       "      <td>4</td>\n",
       "      <td>БУМАЖНО-ВАТНАЯ ПРОДУКЦИЯ</td>\n",
       "      <td>БУМАЖНАЯ ПРОДУКЦИЯ</td>\n",
       "      <td>Format-1</td>\n",
       "      <td>City1</td>\n",
       "      <td>0</td>\n",
       "      <td>0</td>\n",
       "      <td>0.951952</td>\n",
       "    </tr>\n",
       "    <tr>\n",
       "      <th>1</th>\n",
       "      <td>2023-09-14</td>\n",
       "      <td>1</td>\n",
       "      <td>e034ff8716b5</td>\n",
       "      <td>6.000000</td>\n",
       "      <td>4.081428</td>\n",
       "      <td>1</td>\n",
       "      <td>0</td>\n",
       "      <td>30.030029</td>\n",
       "      <td>0.000000</td>\n",
       "      <td>0.000000</td>\n",
       "      <td>9</td>\n",
       "      <td>4</td>\n",
       "      <td>ШОКОЛАД,ШОКОЛАДНАЯ ПАСТА</td>\n",
       "      <td>ШОКОЛАД</td>\n",
       "      <td>Format-1</td>\n",
       "      <td>City1</td>\n",
       "      <td>0</td>\n",
       "      <td>0</td>\n",
       "      <td>0.974317</td>\n",
       "    </tr>\n",
       "    <tr>\n",
       "      <th>2</th>\n",
       "      <td>2023-09-14</td>\n",
       "      <td>1</td>\n",
       "      <td>e4c10ab64623</td>\n",
       "      <td>7.000000</td>\n",
       "      <td>6.769527</td>\n",
       "      <td>1</td>\n",
       "      <td>0</td>\n",
       "      <td>13.001300</td>\n",
       "      <td>0.000000</td>\n",
       "      <td>0.000000</td>\n",
       "      <td>9</td>\n",
       "      <td>4</td>\n",
       "      <td>ВОДКА,НАСТОЙКИ</td>\n",
       "      <td>ВОДКА</td>\n",
       "      <td>Format-1</td>\n",
       "      <td>City1</td>\n",
       "      <td>0</td>\n",
       "      <td>0</td>\n",
       "      <td>0.983343</td>\n",
       "    </tr>\n",
       "    <tr>\n",
       "      <th>3</th>\n",
       "      <td>2023-09-14</td>\n",
       "      <td>1</td>\n",
       "      <td>324e2e6450c8</td>\n",
       "      <td>23.091999</td>\n",
       "      <td>5.696455</td>\n",
       "      <td>1</td>\n",
       "      <td>0</td>\n",
       "      <td>25.006252</td>\n",
       "      <td>0.000000</td>\n",
       "      <td>0.000000</td>\n",
       "      <td>9</td>\n",
       "      <td>4</td>\n",
       "      <td>КОЛБАСЫ ВАРЕНЫЕ</td>\n",
       "      <td>КОЛБАСА ВАРЕНАЯ</td>\n",
       "      <td>Format-1</td>\n",
       "      <td>City1</td>\n",
       "      <td>0</td>\n",
       "      <td>0</td>\n",
       "      <td>0.972932</td>\n",
       "    </tr>\n",
       "    <tr>\n",
       "      <th>4</th>\n",
       "      <td>2023-09-14</td>\n",
       "      <td>1</td>\n",
       "      <td>17dc78090de5</td>\n",
       "      <td>61.000000</td>\n",
       "      <td>2.604170</td>\n",
       "      <td>1</td>\n",
       "      <td>0</td>\n",
       "      <td>15.075377</td>\n",
       "      <td>0.000000</td>\n",
       "      <td>0.000000</td>\n",
       "      <td>9</td>\n",
       "      <td>4</td>\n",
       "      <td>КОФЕ</td>\n",
       "      <td>КОФЕ РАСТВОРИМЫЙ</td>\n",
       "      <td>Format-1</td>\n",
       "      <td>City1</td>\n",
       "      <td>0</td>\n",
       "      <td>0</td>\n",
       "      <td>0.855023</td>\n",
       "    </tr>\n",
       "    <tr>\n",
       "      <th>...</th>\n",
       "      <td>...</td>\n",
       "      <td>...</td>\n",
       "      <td>...</td>\n",
       "      <td>...</td>\n",
       "      <td>...</td>\n",
       "      <td>...</td>\n",
       "      <td>...</td>\n",
       "      <td>...</td>\n",
       "      <td>...</td>\n",
       "      <td>...</td>\n",
       "      <td>...</td>\n",
       "      <td>...</td>\n",
       "      <td>...</td>\n",
       "      <td>...</td>\n",
       "      <td>...</td>\n",
       "      <td>...</td>\n",
       "      <td>...</td>\n",
       "      <td>...</td>\n",
       "      <td>...</td>\n",
       "    </tr>\n",
       "    <tr>\n",
       "      <th>7463137</th>\n",
       "      <td>2022-11-16</td>\n",
       "      <td>2</td>\n",
       "      <td>2ffa9c1bf905</td>\n",
       "      <td>2.000000</td>\n",
       "      <td>5.903043</td>\n",
       "      <td>0</td>\n",
       "      <td>1</td>\n",
       "      <td>0.000000</td>\n",
       "      <td>0.082079</td>\n",
       "      <td>0.095851</td>\n",
       "      <td>11</td>\n",
       "      <td>3</td>\n",
       "      <td>ТОРТЫ</td>\n",
       "      <td>СЛОЕНЫЕ</td>\n",
       "      <td>Format-6</td>\n",
       "      <td>City1</td>\n",
       "      <td>0</td>\n",
       "      <td>0</td>\n",
       "      <td>0.946005</td>\n",
       "    </tr>\n",
       "    <tr>\n",
       "      <th>7463138</th>\n",
       "      <td>2022-11-16</td>\n",
       "      <td>2</td>\n",
       "      <td>1dc20c4f962f</td>\n",
       "      <td>2.000000</td>\n",
       "      <td>5.789196</td>\n",
       "      <td>0</td>\n",
       "      <td>1</td>\n",
       "      <td>0.000000</td>\n",
       "      <td>2.847249</td>\n",
       "      <td>-22.486570</td>\n",
       "      <td>11</td>\n",
       "      <td>3</td>\n",
       "      <td>ТОРТЫ</td>\n",
       "      <td>СУФЛЕ</td>\n",
       "      <td>Format-6</td>\n",
       "      <td>City1</td>\n",
       "      <td>0</td>\n",
       "      <td>0</td>\n",
       "      <td>0.974256</td>\n",
       "    </tr>\n",
       "    <tr>\n",
       "      <th>7463139</th>\n",
       "      <td>2022-11-16</td>\n",
       "      <td>2</td>\n",
       "      <td>2ffa9c1bf905</td>\n",
       "      <td>2.000000</td>\n",
       "      <td>5.903043</td>\n",
       "      <td>0</td>\n",
       "      <td>1</td>\n",
       "      <td>0.000000</td>\n",
       "      <td>0.082079</td>\n",
       "      <td>0.013693</td>\n",
       "      <td>11</td>\n",
       "      <td>3</td>\n",
       "      <td>ТОРТЫ</td>\n",
       "      <td>СЛОЕНЫЕ</td>\n",
       "      <td>Format-6</td>\n",
       "      <td>City1</td>\n",
       "      <td>0</td>\n",
       "      <td>0</td>\n",
       "      <td>0.946005</td>\n",
       "    </tr>\n",
       "    <tr>\n",
       "      <th>7463140</th>\n",
       "      <td>2022-11-16</td>\n",
       "      <td>2</td>\n",
       "      <td>1dc20c4f962f</td>\n",
       "      <td>2.000000</td>\n",
       "      <td>5.789196</td>\n",
       "      <td>0</td>\n",
       "      <td>1</td>\n",
       "      <td>0.000000</td>\n",
       "      <td>2.847249</td>\n",
       "      <td>-22.486570</td>\n",
       "      <td>11</td>\n",
       "      <td>3</td>\n",
       "      <td>ТОРТЫ</td>\n",
       "      <td>СУФЛЕ</td>\n",
       "      <td>Format-6</td>\n",
       "      <td>City1</td>\n",
       "      <td>0</td>\n",
       "      <td>0</td>\n",
       "      <td>0.974256</td>\n",
       "    </tr>\n",
       "    <tr>\n",
       "      <th>7463141</th>\n",
       "      <td>2022-11-16</td>\n",
       "      <td>2</td>\n",
       "      <td>2ffa9c1bf905</td>\n",
       "      <td>2.000000</td>\n",
       "      <td>5.903043</td>\n",
       "      <td>0</td>\n",
       "      <td>1</td>\n",
       "      <td>0.000000</td>\n",
       "      <td>0.082079</td>\n",
       "      <td>0.013693</td>\n",
       "      <td>11</td>\n",
       "      <td>3</td>\n",
       "      <td>ТОРТЫ</td>\n",
       "      <td>СЛОЕНЫЕ</td>\n",
       "      <td>Format-6</td>\n",
       "      <td>City1</td>\n",
       "      <td>0</td>\n",
       "      <td>0</td>\n",
       "      <td>0.946005</td>\n",
       "    </tr>\n",
       "  </tbody>\n",
       "</table>\n",
       "<p>7455001 rows × 19 columns</p>\n",
       "</div>"
      ],
      "text/plain": [
       "              date  store_id       item_id   quantity     price  is_promo   \n",
       "0       2023-09-14         1  0a832c545a6a   2.000000  4.794964         1  \\\n",
       "1       2023-09-14         1  e034ff8716b5   6.000000  4.081428         1   \n",
       "2       2023-09-14         1  e4c10ab64623   7.000000  6.769527         1   \n",
       "3       2023-09-14         1  324e2e6450c8  23.091999  5.696455         1   \n",
       "4       2023-09-14         1  17dc78090de5  61.000000  2.604170         1   \n",
       "...            ...       ...           ...        ...       ...       ...   \n",
       "7463137 2022-11-16         2  2ffa9c1bf905   2.000000  5.903043         0   \n",
       "7463138 2022-11-16         2  1dc20c4f962f   2.000000  5.789196         0   \n",
       "7463139 2022-11-16         2  2ffa9c1bf905   2.000000  5.903043         0   \n",
       "7463140 2022-11-16         2  1dc20c4f962f   2.000000  5.789196         0   \n",
       "7463141 2022-11-16         2  2ffa9c1bf905   2.000000  5.903043         0   \n",
       "\n",
       "         is_markdown  promo_discount  markdown_percentage   \n",
       "0                  0       27.793219             0.000000  \\\n",
       "1                  0       30.030029             0.000000   \n",
       "2                  0       13.001300             0.000000   \n",
       "3                  0       25.006252             0.000000   \n",
       "4                  0       15.075377             0.000000   \n",
       "...              ...             ...                  ...   \n",
       "7463137            1        0.000000             0.082079   \n",
       "7463138            1        0.000000             2.847249   \n",
       "7463139            1        0.000000             0.082079   \n",
       "7463140            1        0.000000             2.847249   \n",
       "7463141            1        0.000000             0.082079   \n",
       "\n",
       "         price_change_percentage  month  day_of_week   \n",
       "0                       0.000000      9            4  \\\n",
       "1                       0.000000      9            4   \n",
       "2                       0.000000      9            4   \n",
       "3                       0.000000      9            4   \n",
       "4                       0.000000      9            4   \n",
       "...                          ...    ...          ...   \n",
       "7463137                 0.095851     11            3   \n",
       "7463138               -22.486570     11            3   \n",
       "7463139                 0.013693     11            3   \n",
       "7463140               -22.486570     11            3   \n",
       "7463141                 0.013693     11            3   \n",
       "\n",
       "                        dept_name          class_name store_format   city   \n",
       "0        БУМАЖНО-ВАТНАЯ ПРОДУКЦИЯ  БУМАЖНАЯ ПРОДУКЦИЯ     Format-1  City1  \\\n",
       "1        ШОКОЛАД,ШОКОЛАДНАЯ ПАСТА             ШОКОЛАД     Format-1  City1   \n",
       "2                  ВОДКА,НАСТОЙКИ               ВОДКА     Format-1  City1   \n",
       "3                 КОЛБАСЫ ВАРЕНЫЕ     КОЛБАСА ВАРЕНАЯ     Format-1  City1   \n",
       "4                            КОФЕ    КОФЕ РАСТВОРИМЫЙ     Format-1  City1   \n",
       "...                           ...                 ...          ...    ...   \n",
       "7463137                     ТОРТЫ             СЛОЕНЫЕ     Format-6  City1   \n",
       "7463138                     ТОРТЫ               СУФЛЕ     Format-6  City1   \n",
       "7463139                     ТОРТЫ             СЛОЕНЫЕ     Format-6  City1   \n",
       "7463140                     ТОРТЫ               СУФЛЕ     Format-6  City1   \n",
       "7463141                     ТОРТЫ             СЛОЕНЫЕ     Format-6  City1   \n",
       "\n",
       "         is_weekend  is_month_end  promo_price_ratio  \n",
       "0                 0             0           0.951952  \n",
       "1                 0             0           0.974317  \n",
       "2                 0             0           0.983343  \n",
       "3                 0             0           0.972932  \n",
       "4                 0             0           0.855023  \n",
       "...             ...           ...                ...  \n",
       "7463137           0             0           0.946005  \n",
       "7463138           0             0           0.974256  \n",
       "7463139           0             0           0.946005  \n",
       "7463140           0             0           0.974256  \n",
       "7463141           0             0           0.946005  \n",
       "\n",
       "[7455001 rows x 19 columns]"
      ]
     },
     "execution_count": 157,
     "metadata": {},
     "output_type": "execute_result"
    }
   ],
   "source": [
    "data"
   ]
  },
  {
   "cell_type": "code",
   "execution_count": 14,
   "metadata": {},
   "outputs": [],
   "source": [
    "# Prepare features\n",
    "def prepare_features(df):\n",
    "    # Encode categorical variables\n",
    "    cat_columns = ['dept_name', 'class_name', 'store_format', 'city','item_id','store_id','is_promo','is_markdown']\n",
    "    label_encoders = {}\n",
    "    \n",
    "    for col in cat_columns:\n",
    "        df[col] = df[col].fillna('Unknown')  # Handle missing values\n",
    "        label_encoders[col] = LabelEncoder()\n",
    "        df[col] = label_encoders[col].fit_transform(df[col])\n",
    "    \n",
    "    # Fill missing numerical values\n",
    "    df = df.fillna(0)\n",
    "    \n",
    "    return df, label_encoders"
   ]
  },
  {
   "cell_type": "code",
   "execution_count": 16,
   "metadata": {},
   "outputs": [
    {
     "data": {
      "text/html": [
       "<style>#sk-container-id-1 {color: black;background-color: white;}#sk-container-id-1 pre{padding: 0;}#sk-container-id-1 div.sk-toggleable {background-color: white;}#sk-container-id-1 label.sk-toggleable__label {cursor: pointer;display: block;width: 100%;margin-bottom: 0;padding: 0.3em;box-sizing: border-box;text-align: center;}#sk-container-id-1 label.sk-toggleable__label-arrow:before {content: \"▸\";float: left;margin-right: 0.25em;color: #696969;}#sk-container-id-1 label.sk-toggleable__label-arrow:hover:before {color: black;}#sk-container-id-1 div.sk-estimator:hover label.sk-toggleable__label-arrow:before {color: black;}#sk-container-id-1 div.sk-toggleable__content {max-height: 0;max-width: 0;overflow: hidden;text-align: left;background-color: #f0f8ff;}#sk-container-id-1 div.sk-toggleable__content pre {margin: 0.2em;color: black;border-radius: 0.25em;background-color: #f0f8ff;}#sk-container-id-1 input.sk-toggleable__control:checked~div.sk-toggleable__content {max-height: 200px;max-width: 100%;overflow: auto;}#sk-container-id-1 input.sk-toggleable__control:checked~label.sk-toggleable__label-arrow:before {content: \"▾\";}#sk-container-id-1 div.sk-estimator input.sk-toggleable__control:checked~label.sk-toggleable__label {background-color: #d4ebff;}#sk-container-id-1 div.sk-label input.sk-toggleable__control:checked~label.sk-toggleable__label {background-color: #d4ebff;}#sk-container-id-1 input.sk-hidden--visually {border: 0;clip: rect(1px 1px 1px 1px);clip: rect(1px, 1px, 1px, 1px);height: 1px;margin: -1px;overflow: hidden;padding: 0;position: absolute;width: 1px;}#sk-container-id-1 div.sk-estimator {font-family: monospace;background-color: #f0f8ff;border: 1px dotted black;border-radius: 0.25em;box-sizing: border-box;margin-bottom: 0.5em;}#sk-container-id-1 div.sk-estimator:hover {background-color: #d4ebff;}#sk-container-id-1 div.sk-parallel-item::after {content: \"\";width: 100%;border-bottom: 1px solid gray;flex-grow: 1;}#sk-container-id-1 div.sk-label:hover label.sk-toggleable__label {background-color: #d4ebff;}#sk-container-id-1 div.sk-serial::before {content: \"\";position: absolute;border-left: 1px solid gray;box-sizing: border-box;top: 0;bottom: 0;left: 50%;z-index: 0;}#sk-container-id-1 div.sk-serial {display: flex;flex-direction: column;align-items: center;background-color: white;padding-right: 0.2em;padding-left: 0.2em;position: relative;}#sk-container-id-1 div.sk-item {position: relative;z-index: 1;}#sk-container-id-1 div.sk-parallel {display: flex;align-items: stretch;justify-content: center;background-color: white;position: relative;}#sk-container-id-1 div.sk-item::before, #sk-container-id-1 div.sk-parallel-item::before {content: \"\";position: absolute;border-left: 1px solid gray;box-sizing: border-box;top: 0;bottom: 0;left: 50%;z-index: -1;}#sk-container-id-1 div.sk-parallel-item {display: flex;flex-direction: column;z-index: 1;position: relative;background-color: white;}#sk-container-id-1 div.sk-parallel-item:first-child::after {align-self: flex-end;width: 50%;}#sk-container-id-1 div.sk-parallel-item:last-child::after {align-self: flex-start;width: 50%;}#sk-container-id-1 div.sk-parallel-item:only-child::after {width: 0;}#sk-container-id-1 div.sk-dashed-wrapped {border: 1px dashed gray;margin: 0 0.4em 0.5em 0.4em;box-sizing: border-box;padding-bottom: 0.4em;background-color: white;}#sk-container-id-1 div.sk-label label {font-family: monospace;font-weight: bold;display: inline-block;line-height: 1.2em;}#sk-container-id-1 div.sk-label-container {text-align: center;}#sk-container-id-1 div.sk-container {/* jupyter's `normalize.less` sets `[hidden] { display: none; }` but bootstrap.min.css set `[hidden] { display: none !important; }` so we also need the `!important` here to be able to override the default hidden behavior on the sphinx rendered scikit-learn.org. See: https://github.com/scikit-learn/scikit-learn/issues/21755 */display: inline-block !important;position: relative;}#sk-container-id-1 div.sk-text-repr-fallback {display: none;}</style><div id=\"sk-container-id-1\" class=\"sk-top-container\"><div class=\"sk-text-repr-fallback\"><pre>XGBRegressor(base_score=None, booster=None, callbacks=None,\n",
       "             colsample_bylevel=None, colsample_bynode=None,\n",
       "             colsample_bytree=None, early_stopping_rounds=None,\n",
       "             enable_categorical=False, eval_metric=None, feature_types=None,\n",
       "             gamma=None, gpu_id=None, grow_policy=None, importance_type=None,\n",
       "             interaction_constraints=None, learning_rate=0.1, max_bin=None,\n",
       "             max_cat_threshold=None, max_cat_to_onehot=None,\n",
       "             max_delta_step=None, max_depth=14, max_leaves=None,\n",
       "             min_child_weight=None, missing=nan, monotone_constraints=None,\n",
       "             n_estimators=100, n_jobs=None, num_parallel_tree=None,\n",
       "             predictor=None, random_state=42, ...)</pre><b>In a Jupyter environment, please rerun this cell to show the HTML representation or trust the notebook. <br />On GitHub, the HTML representation is unable to render, please try loading this page with nbviewer.org.</b></div><div class=\"sk-container\" hidden><div class=\"sk-item\"><div class=\"sk-estimator sk-toggleable\"><input class=\"sk-toggleable__control sk-hidden--visually\" id=\"sk-estimator-id-1\" type=\"checkbox\" checked><label for=\"sk-estimator-id-1\" class=\"sk-toggleable__label sk-toggleable__label-arrow\">XGBRegressor</label><div class=\"sk-toggleable__content\"><pre>XGBRegressor(base_score=None, booster=None, callbacks=None,\n",
       "             colsample_bylevel=None, colsample_bynode=None,\n",
       "             colsample_bytree=None, early_stopping_rounds=None,\n",
       "             enable_categorical=False, eval_metric=None, feature_types=None,\n",
       "             gamma=None, gpu_id=None, grow_policy=None, importance_type=None,\n",
       "             interaction_constraints=None, learning_rate=0.1, max_bin=None,\n",
       "             max_cat_threshold=None, max_cat_to_onehot=None,\n",
       "             max_delta_step=None, max_depth=14, max_leaves=None,\n",
       "             min_child_weight=None, missing=nan, monotone_constraints=None,\n",
       "             n_estimators=100, n_jobs=None, num_parallel_tree=None,\n",
       "             predictor=None, random_state=42, ...)</pre></div></div></div></div></div>"
      ],
      "text/plain": [
       "XGBRegressor(base_score=None, booster=None, callbacks=None,\n",
       "             colsample_bylevel=None, colsample_bynode=None,\n",
       "             colsample_bytree=None, early_stopping_rounds=None,\n",
       "             enable_categorical=False, eval_metric=None, feature_types=None,\n",
       "             gamma=None, gpu_id=None, grow_policy=None, importance_type=None,\n",
       "             interaction_constraints=None, learning_rate=0.1, max_bin=None,\n",
       "             max_cat_threshold=None, max_cat_to_onehot=None,\n",
       "             max_delta_step=None, max_depth=14, max_leaves=None,\n",
       "             min_child_weight=None, missing=nan, monotone_constraints=None,\n",
       "             n_estimators=100, n_jobs=None, num_parallel_tree=None,\n",
       "             predictor=None, random_state=42, ...)"
      ]
     },
     "execution_count": 16,
     "metadata": {},
     "output_type": "execute_result"
    }
   ],
   "source": [
    "# Prepare the data\n",
    "data, label_encoders = prepare_features(data)\n",
    "\n",
    "# Split features and target\n",
    "target = 'quantity'\n",
    "features = ['price', 'month', 'day_of_week', 'dept_name', 'class_name', \n",
    "            'store_format', 'city', 'store_id', 'item_id','is_promo','is_markdown',\n",
    "            'is_weekend','is_month_end','price_change_percentage']\n",
    "\n",
    "X = data[features]\n",
    "y = data[target]\n",
    "\n",
    "# Split train/test based on date\n",
    "split_date = '2024-06-01'  # adjust based on your data\n",
    "train_mask = pd.to_datetime(data['date']) < split_date\n",
    "X_train = X[train_mask]\n",
    "X_test = X[~train_mask]\n",
    "y_train = y[train_mask]\n",
    "y_test = y[~train_mask]\n",
    "\n",
    "\n",
    "# Train model\n",
    "model = XGBRegressor(\n",
    "    n_estimators=100,\n",
    "    learning_rate=0.1,\n",
    "    max_depth=14,\n",
    "    random_state=42,\n",
    "    #enable_categorical=True\n",
    ")\n",
    "model.fit(X_train, y_train)\n"
   ]
  },
  {
   "cell_type": "markdown",
   "metadata": {},
   "source": [
    "### Testing model #2\n",
    "* Took much longer to train and had lower performance "
   ]
  },
  {
   "cell_type": "code",
   "execution_count": 110,
   "metadata": {},
   "outputs": [
    {
     "data": {
      "text/html": [
       "<style>#sk-container-id-6 {color: black;background-color: white;}#sk-container-id-6 pre{padding: 0;}#sk-container-id-6 div.sk-toggleable {background-color: white;}#sk-container-id-6 label.sk-toggleable__label {cursor: pointer;display: block;width: 100%;margin-bottom: 0;padding: 0.3em;box-sizing: border-box;text-align: center;}#sk-container-id-6 label.sk-toggleable__label-arrow:before {content: \"▸\";float: left;margin-right: 0.25em;color: #696969;}#sk-container-id-6 label.sk-toggleable__label-arrow:hover:before {color: black;}#sk-container-id-6 div.sk-estimator:hover label.sk-toggleable__label-arrow:before {color: black;}#sk-container-id-6 div.sk-toggleable__content {max-height: 0;max-width: 0;overflow: hidden;text-align: left;background-color: #f0f8ff;}#sk-container-id-6 div.sk-toggleable__content pre {margin: 0.2em;color: black;border-radius: 0.25em;background-color: #f0f8ff;}#sk-container-id-6 input.sk-toggleable__control:checked~div.sk-toggleable__content {max-height: 200px;max-width: 100%;overflow: auto;}#sk-container-id-6 input.sk-toggleable__control:checked~label.sk-toggleable__label-arrow:before {content: \"▾\";}#sk-container-id-6 div.sk-estimator input.sk-toggleable__control:checked~label.sk-toggleable__label {background-color: #d4ebff;}#sk-container-id-6 div.sk-label input.sk-toggleable__control:checked~label.sk-toggleable__label {background-color: #d4ebff;}#sk-container-id-6 input.sk-hidden--visually {border: 0;clip: rect(1px 1px 1px 1px);clip: rect(1px, 1px, 1px, 1px);height: 1px;margin: -1px;overflow: hidden;padding: 0;position: absolute;width: 1px;}#sk-container-id-6 div.sk-estimator {font-family: monospace;background-color: #f0f8ff;border: 1px dotted black;border-radius: 0.25em;box-sizing: border-box;margin-bottom: 0.5em;}#sk-container-id-6 div.sk-estimator:hover {background-color: #d4ebff;}#sk-container-id-6 div.sk-parallel-item::after {content: \"\";width: 100%;border-bottom: 1px solid gray;flex-grow: 1;}#sk-container-id-6 div.sk-label:hover label.sk-toggleable__label {background-color: #d4ebff;}#sk-container-id-6 div.sk-serial::before {content: \"\";position: absolute;border-left: 1px solid gray;box-sizing: border-box;top: 0;bottom: 0;left: 50%;z-index: 0;}#sk-container-id-6 div.sk-serial {display: flex;flex-direction: column;align-items: center;background-color: white;padding-right: 0.2em;padding-left: 0.2em;position: relative;}#sk-container-id-6 div.sk-item {position: relative;z-index: 1;}#sk-container-id-6 div.sk-parallel {display: flex;align-items: stretch;justify-content: center;background-color: white;position: relative;}#sk-container-id-6 div.sk-item::before, #sk-container-id-6 div.sk-parallel-item::before {content: \"\";position: absolute;border-left: 1px solid gray;box-sizing: border-box;top: 0;bottom: 0;left: 50%;z-index: -1;}#sk-container-id-6 div.sk-parallel-item {display: flex;flex-direction: column;z-index: 1;position: relative;background-color: white;}#sk-container-id-6 div.sk-parallel-item:first-child::after {align-self: flex-end;width: 50%;}#sk-container-id-6 div.sk-parallel-item:last-child::after {align-self: flex-start;width: 50%;}#sk-container-id-6 div.sk-parallel-item:only-child::after {width: 0;}#sk-container-id-6 div.sk-dashed-wrapped {border: 1px dashed gray;margin: 0 0.4em 0.5em 0.4em;box-sizing: border-box;padding-bottom: 0.4em;background-color: white;}#sk-container-id-6 div.sk-label label {font-family: monospace;font-weight: bold;display: inline-block;line-height: 1.2em;}#sk-container-id-6 div.sk-label-container {text-align: center;}#sk-container-id-6 div.sk-container {/* jupyter's `normalize.less` sets `[hidden] { display: none; }` but bootstrap.min.css set `[hidden] { display: none !important; }` so we also need the `!important` here to be able to override the default hidden behavior on the sphinx rendered scikit-learn.org. See: https://github.com/scikit-learn/scikit-learn/issues/21755 */display: inline-block !important;position: relative;}#sk-container-id-6 div.sk-text-repr-fallback {display: none;}</style><div id=\"sk-container-id-6\" class=\"sk-top-container\"><div class=\"sk-text-repr-fallback\"><pre>GradientBoostingRegressor(max_depth=5, random_state=42)</pre><b>In a Jupyter environment, please rerun this cell to show the HTML representation or trust the notebook. <br />On GitHub, the HTML representation is unable to render, please try loading this page with nbviewer.org.</b></div><div class=\"sk-container\" hidden><div class=\"sk-item\"><div class=\"sk-estimator sk-toggleable\"><input class=\"sk-toggleable__control sk-hidden--visually\" id=\"sk-estimator-id-6\" type=\"checkbox\" checked><label for=\"sk-estimator-id-6\" class=\"sk-toggleable__label sk-toggleable__label-arrow\">GradientBoostingRegressor</label><div class=\"sk-toggleable__content\"><pre>GradientBoostingRegressor(max_depth=5, random_state=42)</pre></div></div></div></div></div>"
      ],
      "text/plain": [
       "GradientBoostingRegressor(max_depth=5, random_state=42)"
      ]
     },
     "execution_count": 110,
     "metadata": {},
     "output_type": "execute_result"
    }
   ],
   "source": [
    "from sklearn.ensemble import GradientBoostingRegressor\n",
    "model_GBR = GradientBoostingRegressor(\n",
    "    n_estimators=100,\n",
    "    learning_rate=0.1,\n",
    "    max_depth=5,\n",
    "    random_state=42\n",
    ")\n",
    "\n",
    "model_GBR.fit(X_train, y_train)"
   ]
  },
  {
   "cell_type": "code",
   "execution_count": 18,
   "metadata": {},
   "outputs": [
    {
     "name": "stdout",
     "output_type": "stream",
     "text": [
      "\n",
      "Model Evaluation Metrics:\n",
      "RMSE: 19.67\n",
      "MAE: 3.21\n",
      "R2 Score: 0.60\n"
     ]
    }
   ],
   "source": [
    "# Evaluate\n",
    "y_pred = model.predict(X_test)\n",
    "print(\"\\nModel Evaluation Metrics:\")\n",
    "print(f\"RMSE: {np.sqrt(mean_squared_error(y_test, y_pred)):.2f}\")\n",
    "print(f\"MAE: {mean_absolute_error(y_test, y_pred):.2f}\")\n",
    "print(f\"R2 Score: {r2_score(y_test, y_pred):.2f}\")"
   ]
  },
  {
   "cell_type": "code",
   "execution_count": 161,
   "metadata": {},
   "outputs": [
    {
     "data": {
      "text/plain": [
       "(5845557, 14)"
      ]
     },
     "execution_count": 161,
     "metadata": {},
     "output_type": "execute_result"
    }
   ],
   "source": [
    "X_train.shape"
   ]
  },
  {
   "cell_type": "code",
   "execution_count": 162,
   "metadata": {},
   "outputs": [
    {
     "data": {
      "text/plain": [
       "(1609444, 14)"
      ]
     },
     "execution_count": 162,
     "metadata": {},
     "output_type": "execute_result"
    }
   ],
   "source": [
    "X_test.shape"
   ]
  },
  {
   "cell_type": "markdown",
   "metadata": {},
   "source": [
    "* Feature importance show that store_format, item_id, class_name, dept_name\n",
    "are the most important features"
   ]
  },
  {
   "cell_type": "code",
   "execution_count": 19,
   "metadata": {},
   "outputs": [
    {
     "name": "stdout",
     "output_type": "stream",
     "text": [
      "\n",
      "Feature Importance:\n",
      "                    feature  importance\n",
      "5              store_format    0.363559\n",
      "8                   item_id    0.200288\n",
      "4                class_name    0.196654\n",
      "3                 dept_name    0.106583\n",
      "0                     price    0.049938\n",
      "9                  is_promo    0.035164\n",
      "2               day_of_week    0.015545\n",
      "12             is_month_end    0.010292\n",
      "13  price_change_percentage    0.007791\n",
      "1                     month    0.007230\n",
      "10              is_markdown    0.006957\n",
      "6                      city    0.000000\n",
      "7                  store_id    0.000000\n",
      "11               is_weekend    0.000000\n"
     ]
    }
   ],
   "source": [
    "# Show feature importance\n",
    "importance = pd.DataFrame({\n",
    "    'feature': features,\n",
    "    'importance': model.feature_importances_\n",
    "})\n",
    "print(\"\\nFeature Importance:\")\n",
    "print(importance.sort_values('importance', ascending=False))"
   ]
  }
 ],
 "metadata": {
  "kernelspec": {
   "display_name": "stores_sales-j--OO16q",
   "language": "python",
   "name": "python3"
  },
  "language_info": {
   "codemirror_mode": {
    "name": "ipython",
    "version": 3
   },
   "file_extension": ".py",
   "mimetype": "text/x-python",
   "name": "python",
   "nbconvert_exporter": "python",
   "pygments_lexer": "ipython3",
   "version": "3.11.3"
  }
 },
 "nbformat": 4,
 "nbformat_minor": 2
}
